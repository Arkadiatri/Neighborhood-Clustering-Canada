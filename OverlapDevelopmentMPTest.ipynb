{
 "cells": [
  {
   "cell_type": "code",
   "execution_count": 220,
   "id": "b14b558c",
   "metadata": {},
   "outputs": [],
   "source": [
    "import multiprocess\n",
    "import time\n",
    "import ipypb # Lightweight progress bar, source copied from GitHub\n",
    "import geopandas\n",
    "from CapstoneOverlap import *\n",
    "from importlib import reload\n",
    "reload(CapstoneOverlap)\n",
    "\n",
    "DIR_DATA = 'Data/'"
   ]
  },
  {
   "cell_type": "markdown",
   "id": "9f5c01e4",
   "metadata": {},
   "source": [
    "First we can check what functions have been defined in CapstoneOverlap.py\n",
    "\n",
    "Note: for details refer to the file, or\n",
    "* For documentation:\n",
    "    * help(modname.funcname)\n",
    "    * ?modname.funcname or modname.funcname?\n",
    "    * %pinfo modname.funcname\n",
    "* For source code:\n",
    "    * ??modname.funcname or modname.funcname??\n",
    "    * %pinfo2 modname.funcname\n",
    "    * import inspect; print(inspect.getsource(modname.funcname))"
   ]
  },
  {
   "cell_type": "code",
   "execution_count": 221,
   "id": "b05cc216",
   "metadata": {},
   "outputs": [
    {
     "data": {
      "text/plain": [
       "['countCoordinates',\n",
       " 'maxSubCoordinates',\n",
       " 'cleanGeometry',\n",
       " 'katana',\n",
       " 'katanaByParts',\n",
       " 'intersectionBySjoin',\n",
       " 'intersectGDF',\n",
       " 'intersectGDFMP',\n",
       " 'convertToOldResults',\n",
       " 'loadResults_',\n",
       " 'loadResults',\n",
       " 'saveResults_',\n",
       " 'saveResults',\n",
       " 'loadComputeSave']"
      ]
     },
     "execution_count": 221,
     "metadata": {},
     "output_type": "execute_result"
    }
   ],
   "source": [
    "CapstoneOverlap.__all__"
   ]
  },
  {
   "cell_type": "code",
   "execution_count": 2,
   "id": "c83ad7fb",
   "metadata": {},
   "outputs": [],
   "source": [
    "def GMLtoGDF(filename):\n",
    "    gdf = geopandas.read_file(filename)\n",
    "    gdf = gdf.set_crs(epsg=3347) # Needed only for FSA file, the others are 3347 and parsed correctly by geopandas, and the pdf in the zip file has the same projection parameters (FSA vs. DA, ADA, CT)\n",
    "    gdf['Area'] = gdf.geometry.to_crs(epsg=6931).area # Equal-area projection # MODIFY THIS to account for validity regions of each geometry\n",
    "    gdf['Centroid'] = gdf.geometry.centroid\n",
    "    gdf['Centroid'] = gdf['Centroid'].to_crs(epsg=4326) # Only the set geometry is converted with gdf.to_crs(); all other geometry-containing columns must be converted explicitly; here we convert all columns explicitly\n",
    "    gdf['Centroid Latitude'] = gdf['Centroid'].geometry.y\n",
    "    gdf['Centroid Longitude'] = gdf['Centroid'].geometry.x\n",
    "    gdf.drop(columns = 'Centroid', inplace=True) # Because WKT Point cannot be serialized to JSON, we drop the Centroid column and keep only its float components\n",
    "    return gdf"
   ]
  },
  {
   "cell_type": "code",
   "execution_count": 3,
   "id": "39863d71",
   "metadata": {},
   "outputs": [],
   "source": [
    "def extendBound(bound,direction='up',method='nearestLeadingDigit',scale=10):\n",
    "    '''Extend bound to next 'round' number\n",
    "    \n",
    "    Parameters\n",
    "    ----------\n",
    "    bound: float or float castable number or a list thereof\n",
    "    direction: {'up','down',nonzero number} or a list of these values indicating the direction to round in\n",
    "    method: str describing the extension method\n",
    "        'nearestLeadingDigit': Bound is nearest numbers with leading digit followed by zeros\n",
    "        'nearestPower': Bound is nearest integer power of scale (scale must be > 1).  For negative numbers, the sign and direction are reversed, the extension performed, then the sign of the result is reversed back.\n",
    "        'nearestMultiple': Bound is nearest multiple of scale (scale must be > 0)\n",
    "        'round': Bound is rounded using the default method\n",
    "    scale: numeric as described in method options or a list thereof\n",
    "    \n",
    "    Returns\n",
    "    -------\n",
    "    float: the extended bound\n",
    "    \n",
    "    Notes\n",
    "    -----\n",
    "    All inputs, if not single-valued, must be list-castable and of equal length\n",
    "    If all inputs are single-valued, the output is a float, otherwise it is a list of floats\n",
    "    '''\n",
    "    import numpy as np\n",
    "    \n",
    "    # Check and adjust the length of inputs\n",
    "    unlist = False\n",
    "    try:\n",
    "        bound = list(bound)\n",
    "    except:\n",
    "        try:\n",
    "            bound = [bound]\n",
    "            unlist = True\n",
    "        except:\n",
    "            print(\"Input 'bound' must be numeric or convertible to list type.\")\n",
    "            return None\n",
    "    try:\n",
    "        if type(direction)==str:\n",
    "            direction = [direction]\n",
    "        direction = list(direction)\n",
    "    except:\n",
    "        try:\n",
    "            direction = [direction]\n",
    "        except:\n",
    "            print(\"Input 'direction' must be a string or nonzero number or convertible to list type.\")\n",
    "            return None\n",
    "    try:\n",
    "        if type(method)==str:\n",
    "            method = [method]\n",
    "        method = list(method)\n",
    "    except:\n",
    "        try:\n",
    "            method = [method]\n",
    "        except:\n",
    "            print(\"Input 'method' must be a string or convertible to list type.\")\n",
    "            return None\n",
    "    try:\n",
    "        scale = list(scale)\n",
    "    except:\n",
    "        try:\n",
    "            scale = [scale]\n",
    "        except:\n",
    "            print(\"Input 'scale' must be numeric or convertible to list type.\")\n",
    "            return None\n",
    "    inputs = [bound, direction, method, scale]\n",
    "    lengths = [len(i) for i in inputs]\n",
    "    set_lengths = set(lengths)\n",
    "    max_len = max(set_lengths)\n",
    "    set_lengths.remove(1)\n",
    "    if len(set_lengths)>1:\n",
    "        print('Inputs must be of the same length or of length one.  See help(extendBound)')\n",
    "        return None\n",
    "    if max_len>1: # can this be converted to a looped statement?\n",
    "        if len(bound)==1:\n",
    "            bound = bound*max_len\n",
    "        if len(direction)==1:\n",
    "            direction = direction*max_len\n",
    "        if len(method)==1:\n",
    "            method = method*max_len\n",
    "        if len(scale)==1:\n",
    "            scale = scale*max_len\n",
    "        unlist = False\n",
    "\n",
    "    # If multiple methods are specified, recursively call this function for each method and reassemble results\n",
    "    if len(bound)>1 and len(set(method))>1:\n",
    "        ret = np.array([None for b in bound])\n",
    "        for m in list(set(method)):\n",
    "            ind = np.where(np.array(method)==m)\n",
    "            ret[ind] = extendBound(list(np.array(bound)[ind]),list(np.array(direction)[ind]),m,list(np.array(scale)[ind]))\n",
    "        return list(ret)\n",
    "    \n",
    "    # Convert direction to a logical array roundup\n",
    "    try:\n",
    "        roundup = [True if d=='up' else False if d=='down' else True if float(d)>0 else False if float(d)<0 else None for d in direction]\n",
    "    except:\n",
    "        print('direction must be \"up\", \"down\", or a non-negative number')\n",
    "        return None\n",
    "    if any([r==None for r in roundup]):\n",
    "        print('direction must be \"up\", \"down\", or a non-negative number')\n",
    "        return None\n",
    "    \n",
    "    # Cases for multiple methods handled above, return to string method\n",
    "    method = method[0]\n",
    "    \n",
    "    # Execute the conversions\n",
    "    if method=='nearestLeadingDigit':\n",
    "        iszero = np.array(bound)==0\n",
    "        isnegative = np.array(bound) < 0\n",
    "        offsets = np.logical_xor(roundup, isnegative)\n",
    "        power = [0 if z else np.floor(np.log10(abs(b))) for b, z in zip(bound, iszero)]\n",
    "        firstdigit = [abs(b)//np.power(10,p) for b, p in zip(bound, power)]\n",
    "        exceeds = [abs(b)>f*np.power(10,p) for b, f, p in zip(bound, firstdigit, power)]\n",
    "        newbound = [abs(b) if not t else (f+o)*np.power(10,p) for b, t, n, f, o, p in zip(bound, exceeds, isnegative, firstdigit, offsets, power)]\n",
    "        newbound = [-n if t else n for n, t in zip(newbound,isnegative)]\n",
    "    elif method=='nearestPower':\n",
    "        try:\n",
    "            scale = [float(s) for s in scale]\n",
    "            if any([s<=1 for s in scale]):\n",
    "                print('scale should be greater than 1')\n",
    "                return None\n",
    "        except ValueError:\n",
    "            print('scale should be a number or list of numbers greater than 1')\n",
    "            return None\n",
    "        isnegative = np.array(bound) < 0\n",
    "        offsets = np.logical_xor(roundup, isnegative)\n",
    "        roundfuns = [np.ceil if o else np.floor for o in offsets]\n",
    "        newbound = [0 if b==0 else np.power(s, r(np.log10(abs(b))/np.log10(s))) for b, r, s in zip(bound,roundfuns,scale)]\n",
    "        newbound = [-n if t else n for n, t in zip(newbound,isnegative)]\n",
    "    elif method=='nearestMultiple':\n",
    "        try:\n",
    "            scale = [float(s) for s in scale]\n",
    "            if any([s<=0 for s in scale]):\n",
    "                print('scale should be greater than 0')\n",
    "                return None\n",
    "        except ValueError:\n",
    "            print('scale should be a number or list of numbers greater than 0')\n",
    "            return None\n",
    "        roundfuns = [np.ceil if r else np.floor for r in roundup]\n",
    "        newbound = [s*(r(b/s)) for b, r, s in zip(bound,roundfuns,scale)]\n",
    "    elif method=='round':\n",
    "        roundfuns = [np.ceil if r else np.floor for r in roundup]\n",
    "        newbound = [f(b) for b, f in zip(bound, roundfuns)]\n",
    "    else:\n",
    "        print('Invalid method, see help(extendBound)')\n",
    "        return None\n",
    "    return newbound[0] if unlist else newbound\n",
    "\n",
    "def extendBounds(bounds,method='nearestLeadingDigit',scale=10):\n",
    "    if bounds[0]>bounds[1]:\n",
    "        print('bounds must be ordered from least to greatest')\n",
    "        return None    \n",
    "    return extendBound(bounds,direction=['down','up'],method=method,scale=scale)"
   ]
  },
  {
   "cell_type": "code",
   "execution_count": 4,
   "id": "7e232c4a",
   "metadata": {},
   "outputs": [],
   "source": [
    "# Function(s) to encapsulate loading and saving long calculations\n",
    "def loadResults_(name,tuples,fileformat='db',compress=False):\n",
    "    '''Loads variables from files\n",
    "    \n",
    "    Parameters\n",
    "    ----------\n",
    "    name: str, file name base (including directory if desired)\n",
    "    tuples: list of tuples (varname, suffix),\n",
    "        varname: str, the key of the output dict where the data will be stored\n",
    "        suffix: str, the string appended to name to generate a full file name\n",
    "    fileformat: str, suffix to save the file with (do not include period)\n",
    "    compress: bool, True to zip results (appends '.gz' to filename)\n",
    "    \n",
    "    Returns\n",
    "    -------\n",
    "    None if an error was encountered, or\n",
    "    Tuple the length of tuples containing for each element of tuples:\n",
    "        None if there was an error, or\n",
    "        the variable loaded from file at the same position from tuples\n",
    "    \n",
    "    Notes\n",
    "    -----\n",
    "    Files read in binary format with optional gzip encoding\n",
    "    This function is the complement to saveResults_()\n",
    "    \n",
    "    TODO\n",
    "    ----\n",
    "    Add option to change save format (text vs. binary)\n",
    "    Make fileformat select the save format\n",
    "    '''\n",
    "    if type(name)!=str:\n",
    "        print('Error: name must be a string')\n",
    "        return None\n",
    "    if type(fileformat)!=str:\n",
    "        print('Error: fileformat must be a string')\n",
    "        return None\n",
    "    \n",
    "    ret = []\n",
    "    for n, s in tuples:\n",
    "        fn = name+s+'.'+fileformat+('.gz' if compress else '')\n",
    "        try:\n",
    "            with open(fn,'rb') as file:\n",
    "                ret.append(dill.loads(gzip.decompress(file.read()) if compress else file.read()))\n",
    "        except (FileNotFoundError, IOError) as e:\n",
    "            ret.append(None)\n",
    "            print(f'An error was encountered while reading from file {fn}: {e}')\n",
    "    return tuple(ret)\n",
    "\n",
    "def loadResults(name):\n",
    "    '''Loads variables 'gdf_union', 'times', and 'areas' from zipped files\n",
    "    \n",
    "    Parameters\n",
    "    ----------\n",
    "    name: str containing the base name of the files\n",
    "    \n",
    "    Returns\n",
    "    -------\n",
    "    None if an error was encountered, or\n",
    "    Tuple the length of tuples containing:\n",
    "        None if there was an error, or\n",
    "        the variable loaded from file at the same position from tuples\n",
    "    \n",
    "    Notes\n",
    "    -----\n",
    "    File names area <name>_<variable>.db.gz and are in gzip dill binary format\n",
    "    Uses outside variable DIR_RESULTS if available, otherwise put path in name\n",
    "    '''\n",
    "    tuples = [('gdf_union',''),\n",
    "              ('times','_times'),\n",
    "              ('areas','_areas')]\n",
    "    \n",
    "    return loadResults_(name,tuples,fileformat='db',compress=True)\n",
    "\n",
    "def saveResults_(name,tuples,fileformat='db',compress=False):\n",
    "    '''Saves variables to files\n",
    "    \n",
    "    Parameters\n",
    "    ----------\n",
    "    name: str, file name base (including directory if desired)\n",
    "    tuples: list of tuples (varname, suffix),\n",
    "        var: <any>, the variable to be output to file\n",
    "        suffix: str, the string appended to name to generate a full file name\n",
    "    fileformat: str, suffix to save the file with (do not include period)\n",
    "    compress: bool, True to zip results (appends '.gz' to filename)\n",
    "    \n",
    "    Returns\n",
    "    -------\n",
    "    None if an error was encountered, or\n",
    "    Tuple the same length as tuples containing return codes:\n",
    "        0 Failure\n",
    "        1 Success\n",
    "    \n",
    "    Notes\n",
    "    -----\n",
    "    Files written in binary format\n",
    "    Files are created if they do not already exist\n",
    "    Files are overwritten if they already exist\n",
    "\n",
    "    TODO\n",
    "    ----\n",
    "    Make fileformat determine save format\n",
    "\n",
    "    '''\n",
    "    if type(name)!=str:\n",
    "        print('Error: name must be a string')\n",
    "        return None\n",
    "    if type(fileformat)!=str:\n",
    "        print('Error: fileformat must be a string')\n",
    "        return None\n",
    "    \n",
    "    ret = []\n",
    "    for v, s in tuples:\n",
    "        fn = name+s+'.'+fileformat+('.gz' if compress else '')\n",
    "        try:\n",
    "            with open(fn,'wb+') as file:\n",
    "                file.write(gzip.compress(dill.dumps(v)) if compress else dill.dumps(v))\n",
    "                ret.append(1)\n",
    "        except IOError as e:\n",
    "            ret.append(0)\n",
    "            print(f'An error was encountered while writing to file {fn}: {e}')\n",
    "    return tuple(ret)\n",
    "\n",
    "def saveResults(name, gdf_union, times, areas):\n",
    "    '''Saves variables 'times', 'areas', and 'gdf_union' to zipped files\n",
    "    \n",
    "    Parameters\n",
    "    ----------\n",
    "    name: str, file name base (including directory if desired)\n",
    "    gdf_union: geodataframe of geographic areas, produced from intersectGDF()\n",
    "    times: 1d array of computation times, produced from intersectGDF()\n",
    "    areas: list of lists of overlap areas, produced from intersectGDF()\n",
    "    \n",
    "    Returns\n",
    "    -------\n",
    "    None if an error was encountered, or\n",
    "    Tuple the same length as tuples containing return codes:\n",
    "        0 Failure\n",
    "        1 Success\n",
    "    \n",
    "    Notes\n",
    "    -----\n",
    "    File names area <name><variable>.db.gz and are in gzip dill binary format\n",
    "    Use outside variable DIR_RESULTS in construction of name\n",
    "    '''\n",
    "    tuples = [(gdf_union,''),\n",
    "              (times,'_times'),\n",
    "              (areas,'_areas')]\n",
    "    \n",
    "    return saveResults_(name,tuples,fileformat='db',compress=True)\n",
    "\n",
    "def loadComputeSave(gdf_1, key_1, gdf_2, key_2, loadname=None, savename=None):\n",
    "    '''Returns the overlap of geometries, defaulting to file versions if possible\n",
    "    \n",
    "    Parameters\n",
    "    ----------\n",
    "    gdf_1: GeoDataFrame (must match crs of gdf2, will be utilized for vectorized overlap calculation)\n",
    "    keyfield1: column name in gdf1 which uniquely identifies each row and will be used to label the results\n",
    "    gdf2: GeoDataFrame (must match crs of gdf1, will be iterated over for overlap calculation)\n",
    "    keyfield2: column name in gdf2 which uniquely identifies each row and will be used to label the results\n",
    "    loadname: str or None, base name of files to load data from (None -> 'DEFAULT'), see saveResults()\n",
    "    savename: str or None, base name of files to save data to (None -> loadname), see loadResults()\n",
    "    \n",
    "    Returns\n",
    "    -------\n",
    "    gdf_union: Geodataframe containing columns of nonzero overlap geometries, corresponding gdf1[keyfield1], and corresponding gdf2[keyfield2], where only one value of gdf1[keyfield1] is selected which is the one with maximum overlap area\n",
    "    times: List of execution times for each overlap calculation; len(times)=gdf2.shape[0]\n",
    "    areas: List of pandas Series of overlap areas; len(areas)=gdf2.shape[0], len(areas[i])=gdf1.shape[0]\n",
    "    \n",
    "    Notes\n",
    "    -----\n",
    "    gdf1 and gdf2 must be set to the same crs\n",
    "    Iterates over gdf2, which should have the larger number of rows of {gdf1,gdf2} in order to minimize required memory (assuming geometries are of roughly equal size)\n",
    "    '''\n",
    "    verbosity = 1\n",
    "    \n",
    "    if savename is None:\n",
    "        savename = loadname if not loadname is None else 'DEFAULT'\n",
    "    \n",
    "    ret = None if loadname is None else loadResults(DIR_RESULTS+loadname)\n",
    "    recompute = False\n",
    "    saveresults = False\n",
    "    if ret is None:\n",
    "        recompute = True\n",
    "        saveresults = True\n",
    "    else:\n",
    "        gdf_union, times, areas = ret\n",
    "        if gdf_union is None:\n",
    "            if areas is None: # Recompute\n",
    "                recompute = True\n",
    "                saveresults = True\n",
    "            else:                # Reconstruct from areas\n",
    "                print(\"Overlaps will be recomputed based on loaded variable 'areas'\")\n",
    "                gdf_union, times, areas = intersectGDFareas(gdf_1,key_1,gdf_2,key_2,areas_in=temp_areas,verbosity=1)\n",
    "                saveresults = True\n",
    "        else:\n",
    "            print(\"Overlaps loaded from file\")\n",
    "\n",
    "    if recompute:\n",
    "        print(\"Overlaps must be computed\")\n",
    "        gdf_union, times, areas = intersectGDF(gdf_1,key_1,gdf_2,key_2,verbosity=1)\n",
    "    \n",
    "    if saveresults:\n",
    "        saveResults(DIR_RESULTS+savename, gdf_union, times, areas)\n",
    "        print(\"Variables saved to file at \"+DIR_RESULTS+savename)\n",
    "\n",
    "    return gdf_union, times, areas"
   ]
  },
  {
   "cell_type": "code",
   "execution_count": 5,
   "id": "ff917359",
   "metadata": {},
   "outputs": [],
   "source": [
    "def makeValidByBuffer(gdf, verbose=False):\n",
    "    '''Returns a copy of the dataframe (or list thereof) with zero buffer applied to invalid geometries\n",
    "    \n",
    "    Requires: geopandas, time'''\n",
    "    unlist=False\n",
    "    if type(gdf)!=list:\n",
    "        gdf = [gdf]\n",
    "        unlist = True\n",
    "    ret = []\n",
    "    for i, g in enumerate(gdf):\n",
    "        if verbose: t_start = time.time()\n",
    "        gb = g.copy(deep=True)\n",
    "        indb_invalid = ~gb.geometry.is_valid\n",
    "        gb.geometry.loc[indb_invalid] = gb.geometry.loc[indb_invalid].buffer(0)\n",
    "        ret.append(gb)\n",
    "        if verbose:\n",
    "            print(f'GDF at index {i} corrected {sum(indb_invalid)} invalid geometries in {time.strftime(\"%H:%M:%S\",time.gmtime(time.time()-t_start))}')\n",
    "    if unlist:\n",
    "        ret = ret[0]\n",
    "    return ret"
   ]
  },
  {
   "cell_type": "code",
   "execution_count": 6,
   "id": "75877327",
   "metadata": {},
   "outputs": [],
   "source": [
    "def makeValidByOGR(gdf, verbose=False):\n",
    "    '''Returns a copy of the geodataframe (or list thereof) passed through ogr MakeValid'''\n",
    "    unlist=False\n",
    "    if type(gdf)!=list:\n",
    "        gdf = [gdf]\n",
    "        unlist = True\n",
    "    ret = []\n",
    "    for i, g in enumerate(gdf):\n",
    "        if verbose: t_start = time.time()\n",
    "        gb = g.copy(deep=True)\n",
    "        indb_invalid = ~gb.geometry.is_valid\n",
    "        gb.geometry.loc[indb_invalid] = [shapely.wkb.loads(ogr.CreateGeometryFromWkb(g.to_wkb()).MakeValid().ExportToWkb()) for g in gb.geometry.loc[indb_invalid]]\n",
    "        ret.append(gb)\n",
    "        if verbose:\n",
    "            print(f'GDF at index {i} corrected {sum(indb_invalid)} invalid geometries in {time.strftime(\"%H:%M:%S\",time.gmtime(time.time()-t_start))}')\n",
    "    if unlist:\n",
    "        ret = ret[0]\n",
    "    return ret "
   ]
  },
  {
   "cell_type": "code",
   "execution_count": 7,
   "id": "72f3ca51",
   "metadata": {},
   "outputs": [],
   "source": [
    "def testGeomType(geom):\n",
    "    if geom.type=='MultiPolygon':\n",
    "        test = [testGeomType(g) for g in geom]\n",
    "    elif geom.type=='Polygon':\n",
    "        test = [True]\n",
    "    else:\n",
    "        print(f'Geometry is not strictly Polygon or MultiPolygon: {geom.type}')\n",
    "    return all(test)\n",
    "\n",
    "def countCoordinates(geom):\n",
    "    '''Count the total coordinates in the geometry\n",
    "    \n",
    "    Parameters\n",
    "    ----------\n",
    "    geom: shapely.geometry.Polygon or shapely.geometry.MultiPolygon (consisting only of shapely.geometry.Polygon componenet)\n",
    "    \n",
    "    Returns\n",
    "    -------\n",
    "    int: number of coordinates in the geometry\n",
    "    \n",
    "    Notes\n",
    "    -----\n",
    "    Each geometry element repeats the first point as the last point, and these are included in the count\n",
    "    '''\n",
    "    if geom.type=='MultiPolygon':\n",
    "        count = [countCoordinates(g) for g in geom]\n",
    "    elif geom.type=='Polygon':\n",
    "        count = [len(geom.exterior.coords) + sum([len(i.coords) for i in geom.interiors])]\n",
    "    else:\n",
    "        print(f'Geometry is not strictly Polygon or MultiPolygon: {geom.type}')\n",
    "    return sum(count)"
   ]
  },
  {
   "cell_type": "code",
   "execution_count": 8,
   "id": "4b3e7e6c",
   "metadata": {},
   "outputs": [
    {
     "name": "stderr",
     "output_type": "stream",
     "text": [
      "C:\\Users\\Arkadiatri\\anaconda3\\envs\\Coursera\\lib\\site-packages\\geopandas\\geodataframe.py:577: RuntimeWarning: Sequential read of iterator was interrupted. Resetting iterator. This can negatively impact the performance.\n",
      "  for feature in features_lst:\n"
     ]
    },
    {
     "name": "stdout",
     "output_type": "stream",
     "text": [
      "Wall time: 3min 30s\n"
     ]
    }
   ],
   "source": [
    "%%time\n",
    "gdf_CA_FSA_D = GMLtoGDF(DIR_DATA+'lfsa000a16g_e.gml')\n",
    "gdf_CA_DA_D = GMLtoGDF(DIR_DATA+'lda_000a16g_e.gml')\n",
    "gdf_CA_FSA = GMLtoGDF(DIR_DATA+'lfsa000b16g_e.gml')\n",
    "gdf_CA_DA = GMLtoGDF(DIR_DATA+'lda_000b16g_e.gml')"
   ]
  },
  {
   "cell_type": "code",
   "execution_count": 9,
   "id": "443f891e",
   "metadata": {},
   "outputs": [
    {
     "name": "stdout",
     "output_type": "stream",
     "text": [
      "Wall time: 2min 38s\n"
     ]
    }
   ],
   "source": [
    "%%time\n",
    "gdf_CA_FSA_Db = makeValidByBuffer(gdf_CA_FSA_D)\n",
    "gdf_CA_DA_Db = makeValidByBuffer(gdf_CA_DA_D)\n",
    "gdf_CA_FSAb = makeValidByBuffer(gdf_CA_FSA)\n",
    "gdf_CA_DAb = makeValidByBuffer(gdf_CA_DA)"
   ]
  },
  {
   "cell_type": "markdown",
   "id": "bd5a481c",
   "metadata": {},
   "source": [
    "# Optimizing DA block size per process"
   ]
  },
  {
   "cell_type": "code",
   "execution_count": 25,
   "id": "624971d9",
   "metadata": {},
   "outputs": [
    {
     "name": "stdout",
     "output_type": "stream",
     "text": [
      "Generating pool, P=10, N=56590, DIV=2000, NDIV=29\n",
      "Processing pool\n"
     ]
    },
    {
     "data": {
      "text/html": [
       "<div><span class=\"Text-label\" style=\"display:inline-block; overflow:hidden; white-space:nowrap; text-overflow:ellipsis; min-width:0; max-width:15ex; vertical-align:middle; text-align:right\"></span>\n",
       "<progress style=\"width:60ex\" max=\"29\" value=\"29\" class=\"Progress-main\"/></progress>\n",
       "<span class=\"Progress-label\"><strong>100%</strong></span>\n",
       "<span class=\"Iteration-label\">29/29</span>\n",
       "<span class=\"Time-label\">[02:31<00:09, 5.21s/it]</span></div>"
      ],
      "text/plain": [
       "\u001b[A\u001b[2K\r",
       " [████████████████████████████████████████████████████████████] 29/29 [02:31<00:09, 5.21s/it]"
      ]
     },
     "metadata": {},
     "output_type": "display_data"
    },
    {
     "name": "stdout",
     "output_type": "stream",
     "text": [
      "Finished 1/29, wall time 00:00:18\n",
      "Finished 10/29, wall time 00:00:33\n",
      "Finished 20/29, wall time 00:01:00\n",
      "Finished 29/29, wall time 00:02:31\n",
      "Pool processing concluded, process count 29/29, wall time 00:02:31, processor time 00:12:40, processor:wall ratio 5.02x\n",
      "Total time: 00:02:31\n"
     ]
    }
   ],
   "source": [
    "import multiprocess\n",
    "import CapstoneOverlap\n",
    "import time\n",
    "import ipypb # Lightweight progress bar, source copied from GitHub\n",
    "import geopandas\n",
    "import pandas as pd\n",
    "\n",
    "from importlib import reload\n",
    "reload(CapstoneOverlap)\n",
    "\n",
    "DIR_DATA = 'Data/'\n",
    "# <Copy of GMLtoGDF()>\n",
    "# <Copy of file loading for gdf_CA_*>\n",
    "\n",
    "gdf1 = gdf_CA_FSA_Db\n",
    "key1 = 'CFSAUID'\n",
    "gdf2 = gdf_CA_DA_Db\n",
    "key2 = 'DAUID'\n",
    "areas_in=None\n",
    "verbosity=1\n",
    "area_epsg=6931\n",
    "apply_buffer=False\n",
    "threshold=None\n",
    "vertex_limit=10000\n",
    "check_inputs=False\n",
    "\n",
    "begin_time = time.time()\n",
    "# Multiprocessing code:\n",
    "if __name__ == '__main__':\n",
    "    completed = 0\n",
    "    N = gdf2.shape[0]\n",
    "    NUM_PROCESSES = 10\n",
    "    DIV = 2000\n",
    "    NDIV = N//DIV+(0 if N%DIV==0 else 1)\n",
    "    results = [None]*NDIV\n",
    "\n",
    "    start_time = time.time()\n",
    "    with multiprocess.Pool(NUM_PROCESSES) as pool:\n",
    "        print(f'Generating pool, P={NUM_PROCESSES}, N={N}, DIV={DIV}, NDIV={NDIV}')\n",
    "        #print([(ind*DIV, ((ind+1)*DIV if (ind+1)*DIV<N else N)) for ind in range(NDIV)])\n",
    "        ret = [pool.apply_async(CapstoneOverlap.intersectGDF,(gdf1,key1,gdf2.iloc[ind*DIV:((ind+1)*DIV if (ind+1)*DIV<N else N),:],key2,areas_in if areas_in is None else areas_in[ind*DIV:((ind+1)*DIV if (ind+1)*DIV<N else N)],verbosity,area_epsg,apply_buffer,threshold,vertex_limit,check_inputs)) for ind in range(NDIV)]\n",
    "        print('Processing pool')\n",
    "        for i in ipypb.track(range(NDIV)): # Alternative: initialize pb and call next(pb) in loop, instead of having a while loop to process all updates since last loop\n",
    "            while True:\n",
    "                indb_finished = [r.ready() for r in ret]\n",
    "                indb_empty = [r is None for r in results]\n",
    "                indb_update = [f and e for f, e in zip(indb_finished, indb_empty)]\n",
    "                if any(indb_update):\n",
    "                    ind_update = indb_update.index(True)\n",
    "                    results[ind_update] = ret[ind_update].get(999) # Set finite timeout so that it returns properly\n",
    "                    completed += 1\n",
    "                    if completed%10==0 or completed==1 or completed==(NDIV):\n",
    "                        print(f'Finished {completed}/{NDIV}, wall time {time.strftime(\"%H:%M:%S\", time.gmtime(time.time()-start_time))}')\n",
    "                    break\n",
    "                time.sleep(1) # Make the infinite loop run slower; might be improved with explicit async\n",
    "\n",
    "    wall_time = time.time()-start_time\n",
    "    processor_time = sum([r[1] for r in results])\n",
    "    gdf_joined = pd.concat([r[0] for r in results])\n",
    "    print(f'Pool processing concluded, process count {sum([r!=None for r in results])}/{NDIV}, wall time {time.strftime(\"%H:%M:%S\", time.gmtime(wall_time))}, processor time {time.strftime(\"%H:%M:%S\", time.gmtime(processor_time))}, processor:wall ratio {processor_time/wall_time:.3}x')\n",
    "    print(f'Total time: {time.strftime(\"%H:%M:%S\", time.gmtime(time.time()-begin_time))}')"
   ]
  },
  {
   "cell_type": "code",
   "execution_count": 24,
   "id": "a6aedd66",
   "metadata": {},
   "outputs": [
    {
     "data": {
      "image/png": "[encoded data removed]",
      "text/plain": [
       "<Figure size 432x288 with 1 Axes>"
      ]
     },
     "metadata": {
      "needs_background": "light"
     },
     "output_type": "display_data"
    }
   ],
   "source": [
    "import matplotlib\n",
    "import matplotlib.pyplot as plt\n",
    "%matplotlib inline\n",
    "\n",
    "timing = [(5659,149,10),(4000,141,15),(3000,126,19),(2500,139,23),(2000,104,29),(1500,107,38),(1000,113,57),(500,177,114),(200,290,283),(100,380,566)] # (DIV,time)\n",
    "# after cooling/restart: 2000 92 and 3000,100, which are noticeably shorter...\n",
    "# below is operating while hot (continuous):\n",
    "timing_hot = [(11318,247,5),(5659,239,10),(4000,233,15),(3000,215,19),(2500,215,23),(2000,215,29),(1500,213,38),(1000,224,57),(500,292,114),(200,456,283)] # (DIV,time)\n",
    "x, y, z = zip(*timing)\n",
    "xh, yh, zh = zip(*timing_hot)\n",
    "plt.plot(xh,yh,'.-',c='red',label='Hot processor')\n",
    "plt.plot(x,y,'.-',label='Cool processor')\n",
    "plt.xlabel('DAs per process')\n",
    "plt.ylabel('Execution time [s]')\n",
    "plt.legend()\n",
    "plt.savefig(DIR_RESULTS+'MultiprocessOptimization.png');\n",
    "# 200 failed... index 163 for 100... why!? Had to fix update of Part 2 to iloc from loc for case of single-True indb_cut (single True returned a series, not a DF, I think that was the trouble... loc indexing by boolean array can't coerce a DF return... unless ,:]['col'] were used perhaps, but even then just a series would be returned of col values for the row...)"
   ]
  },
  {
   "cell_type": "code",
   "execution_count": 21,
   "id": "e5c719c4",
   "metadata": {},
   "outputs": [],
   "source": [
    "import multiprocess\n",
    "import CapstoneOverlap\n",
    "import time\n",
    "import ipypb # Lightweight progress bar, source copied from GitHub\n",
    "import geopandas\n",
    "import pandas as pd\n",
    "import importlib\n",
    "importlib.reload(CapstoneOverlap)\n",
    "\n",
    "def intersectGDFMP(gdf1, key1, gdf2, key2, areas_in=None, verbosity=1, area_epsg=6931, apply_buffer=False, threshold=None, vertex_limit=10000, check_inputs=True, num_process=None, num_block=None):\n",
    "    '''Multiprocess overlap between geometries in two geodataframes\n",
    "    \n",
    "    TODO:\n",
    "    Verbosity comments in input checks\n",
    "    Documentation\n",
    "    Separate multiprocess sections for: input checking, geometry cutting, overlap calculation\n",
    "    '''\n",
    "\n",
    "    # Multiprocessing code:\n",
    "    if __name__ == '__main__':\n",
    "        \n",
    "        if verbosity>=1: print('Executing intersectGDFMP')\n",
    "        begin_time = time.time()\n",
    "        \n",
    "        # Input checks\n",
    "        NCPU = multiprocess.cpu_count()\n",
    "        N2 = gdf2.shape[0]\n",
    "        \n",
    "        if check_inputs:\n",
    "            if num_process is None:\n",
    "                num_process = max(1, NCPU-2) # empirical factor for circa 2020 multicore computers, prevents lockup by leaving processes available for the system and other applications\n",
    "            else:\n",
    "                try:\n",
    "                    num_process = int(num_process)\n",
    "                except (ValueError, TypeError):\n",
    "                    print(f'Input Error: num_process must be an integer (there are {NCPU} CPUs detected, input was: {num_process})')\n",
    "                    return None\n",
    "                if num_process < 0:\n",
    "                    tmp = num_process\n",
    "                    num_process = max(1, NCPU-num_process)\n",
    "                else:\n",
    "                    num_process = min(NCPU, num_process)\n",
    "            if verbosity>=1: print(f'  num_process set to {num_process} (of {NCPU})')\n",
    "\n",
    "            if num_block is None:\n",
    "                num_block = N2\n",
    "                if num_process>1:\n",
    "                    num_block = max(1,num_block//(3*num_process)) # empirical factor based on Canadian census CFSA and DA catographic geometry overlap calculation\n",
    "            else:\n",
    "                try:\n",
    "                    num_block = int(num_block)\n",
    "                except (ValueError, TypeError):\n",
    "                    print(f'Input Error: num_block must be an integer (input was: {num_block})')\n",
    "                    return None\n",
    "                num_block = max(1,min(num_block,N2))\n",
    "            if verbosity>=1: print(f'  num_block set to {num_block} (of {N2})')\n",
    "                \n",
    "            # Ensure coordinate reference systems match\n",
    "            if gdf1.crs!=gdf2.crs:\n",
    "                print(f\"Input coordinate reference systems must be the same: gdf1.crs={gdf1.crs}, gdf2.crs={gdf2.crs}\")\n",
    "                return None\n",
    "\n",
    "            # Ensure geometries are valid\n",
    "            n_invalid1 = gdf1.shape[0]-sum(gdf1.geometry.is_valid)\n",
    "            n_invalid2 = gdf2.shape[0]-sum(gdf2.geometry.is_valid)\n",
    "            if not apply_buffer and (n_invalid1>0 or n_invalid2>0):\n",
    "                print(f\"Input geometries must be valid: {n_invalid1} invalid geometries in gdf1, {n_invalid2} invalid geometries in gdf2\")\n",
    "                return None\n",
    "\n",
    "            # Ensure areas_in is the proper size\n",
    "            if not areas_in is None:\n",
    "                N2 = len(areas_in)\n",
    "                if N2!=gdf2.shape[0]:\n",
    "                    print(f\"Input areas_in must have length {gdf2.shape[0]}, actual length is {N2}\")\n",
    "                    return None\n",
    "                N1 = len(areas_in[0])\n",
    "                irreg = not all([len(a)==N1 for a in areas_in])\n",
    "                if len(areas_in)!=gdf2.shape[0] or N1!=gdf1.shape[0] or irreg:\n",
    "                    print(f\"Input areas_in must have size [{gdf2.shape[0]}][{gdf1.shape[0]}], actual shape is [{N2}][{N1}]{' with irregular second dimension length' if irreg else ''}\")\n",
    "                    return None\n",
    "\n",
    "            # Checks performed here, no need to do so in intersectGDF\n",
    "            check_inputs = False \n",
    "        \n",
    "        NDIV = N2//num_block+(0 if N2%num_block==0 else 1)\n",
    "        results = [None]*NDIV\n",
    "\n",
    "        start_time = time.time()\n",
    "        completed = 0\n",
    "        with multiprocess.Pool(num_process) as pool:\n",
    "            print(f'Generating pool, P={num_process}, N={N2}, DIV={num_block}, NDIV={NDIV}')\n",
    "            ret = [pool.apply_async(CapstoneOverlap.intersectGDF,(gdf1,key1,gdf2.iloc[ind*num_block:((ind+1)*num_block if (ind+1)*num_block<N2 else N2),:],key2,areas_in if areas_in is None else areas_in[ind*num_block:((ind+1)*num_block if (ind+1)*num_block<N2 else N2)],verbosity,area_epsg,apply_buffer,threshold,vertex_limit,check_inputs)) for ind in range(NDIV)]\n",
    "            print('Processing pool')\n",
    "            for i in ipypb.track(range(NDIV)): # Alternative: initialize pb and call next(pb) in loop, instead of having a while loop to process all updates since last loop\n",
    "                while True:\n",
    "                    indb_finished = [r.ready() for r in ret]\n",
    "                    indb_empty = [r is None for r in results]\n",
    "                    indb_update = [f and e for f, e in zip(indb_finished, indb_empty)]\n",
    "                    if any(indb_update):\n",
    "                        ind_update = indb_update.index(True)\n",
    "                        results[ind_update] = ret[ind_update].get(999) # Set finite timeout so that it returns properly\n",
    "                        completed += 1\n",
    "                        if completed%10==0 or completed==1 or completed==(NDIV):\n",
    "                            print(f'Finished {completed}/{NDIV}, wall time {time.strftime(\"%H:%M:%S\", time.gmtime(time.time()-start_time))}')\n",
    "                        break\n",
    "                    time.sleep(1) # Make the infinite loop run slower; might be improved with explicit async\n",
    "\n",
    "        wall_time = time.time()-start_time\n",
    "        processor_time = sum([r[1] for r in results])\n",
    "        gdf_joined = pd.concat([r[0] for r in results]).sort_values(key2,ignore_index=True)\n",
    "        print(f'Pool processing concluded, process count {sum([r!=None for r in results])}/{NDIV}, wall time {time.strftime(\"%H:%M:%S\", time.gmtime(wall_time))}, processor time {time.strftime(\"%H:%M:%S\", time.gmtime(processor_time))}, processor:wall ratio {processor_time/wall_time:.3}x')\n",
    "        print(f'Total time: {time.strftime(\"%H:%M:%S\", time.gmtime(time.time()-begin_time))}')\n",
    "        return gdf_joined\n",
    "    return None"
   ]
  },
  {
   "cell_type": "code",
   "execution_count": 10,
   "id": "cacee74a",
   "metadata": {},
   "outputs": [],
   "source": [
    "import numpy as np\n",
    "\n",
    "def normalizeRows(areas, aslist=False):\n",
    "    '''Normalizes each row of the input by its sum (numpy.array)'''\n",
    "    a = np.array(areas)\n",
    "    a = a / np.sum(a,axis=1)[:, np.newaxis]\n",
    "    return a.tolist() if aslist else a\n",
    "\n",
    "def thresholdAreas(areas, threshold=1e-6, aslist=False):\n",
    "    '''Zeros out elements of areas that are below the threshold (numpy.array(float))'''\n",
    "    a = np.array(areas)\n",
    "    a_ratio = normalizeRows(areas)\n",
    "    a[a_ratio<threshold] = 0\n",
    "    return a.tolist() if aslist else a\n",
    "\n",
    "def normalizeAreas(areas, threshold=1e-6, aslist=False):\n",
    "    '''Thresholds then normalizes areas (numpy.array(float))'''\n",
    "    a = thresholdAreas(areas, threshold)\n",
    "    a = normalizeRows(a)\n",
    "    return a.tolist() if aslist else a\n",
    "\n",
    "def maximumAreas(areas, aslist=False):\n",
    "    '''Zeros out non-maximum elements in each row of areas (numpy.array(int))\n",
    "    Test with e.g.: (max(np.sum(r,axis=1)), min(np.sum(r,axis=1)), np.sum(r))'''\n",
    "    a = np.array(areas)\n",
    "    a_max = np.max(a,axis=1)\n",
    "    r = (a >= a_max[:,np.newaxis]).astype(int)\n",
    "    return r.tolist() if aslist else r"
   ]
  },
  {
   "cell_type": "markdown",
   "id": "596f8e53",
   "metadata": {},
   "source": [
    "Initialization of variables:"
   ]
  },
  {
   "cell_type": "code",
   "execution_count": 18,
   "id": "2022e698",
   "metadata": {},
   "outputs": [],
   "source": [
    "DIR_DATA = 'Data/'\n",
    "DIR_RESULTS = 'Results/Backup2/'\n",
    "import dill\n",
    "import gzip\n",
    "a = loadResults_(DIR_RESULTS+'GDF_FSA-DA_D_M2AREA',[('a','_areas'),],compress=True)[0]\n",
    "\n",
    "# Select one of the following:\n",
    "#a = None\n",
    "#a = a#[aa.tolist() for aa in a]\n",
    "a = normalizeAreas(a,threshold=1e-6,aslist=True)\n",
    "#a = maximumAreas(a,aslist=True)\n",
    "\n",
    "gdf1 = gdf_CA_FSA_Db\n",
    "key1 = 'CFSAUID'\n",
    "gdf2 = gdf_CA_DA_Db\n",
    "key2 = 'DAUID'\n",
    "areas_in=np.array(a) if not a is None else a\n",
    "verbosity=1\n",
    "area_epsg=6931\n",
    "apply_buffer=False\n",
    "threshold=None\n",
    "vertex_limit=10000\n",
    "check_inputs=True\n",
    "num_process=10\n",
    "num_block=2000"
   ]
  },
  {
   "cell_type": "markdown",
   "id": "a544322d",
   "metadata": {},
   "source": [
    "Code to execute (reload was used when testing/revising module code):"
   ]
  },
  {
   "cell_type": "code",
   "execution_count": 34,
   "id": "ab980ffe",
   "metadata": {},
   "outputs": [
    {
     "name": "stdout",
     "output_type": "stream",
     "text": [
      "Executing intersectGDFMP\n",
      "  num_process set to 10 (of 12)\n",
      "  num_block set to 2000 (of 56590)\n",
      "Generating pool, P=10, N=56590, DIV=2000, NDIV=29\n",
      "Processing pool\n"
     ]
    },
    {
     "data": {
      "text/html": [
       "<div><span class=\"Text-label\" style=\"display:inline-block; overflow:hidden; white-space:nowrap; text-overflow:ellipsis; min-width:0; max-width:15ex; vertical-align:middle; text-align:right\"></span>\n",
       "<progress style=\"width:60ex\" max=\"29\" value=\"29\" class=\"Progress-main\"/></progress>\n",
       "<span class=\"Progress-label\"><strong>100%</strong></span>\n",
       "<span class=\"Iteration-label\">29/29</span>\n",
       "<span class=\"Time-label\">[02:49<00:06, 5.82s/it]</span></div>"
      ],
      "text/plain": [
       "\u001b[A\u001b[2K\r",
       " [████████████████████████████████████████████████████████████] 29/29 [02:49<00:06, 5.82s/it]"
      ]
     },
     "metadata": {},
     "output_type": "display_data"
    },
    {
     "name": "stdout",
     "output_type": "stream",
     "text": [
      "Finished 1/29, wall time 00:00:15\n",
      "Finished 10/29, wall time 00:00:52\n",
      "Finished 20/29, wall time 00:01:49\n",
      "Finished 29/29, wall time 00:02:49\n",
      "Pool processing concluded, process count 29/29, wall time 00:02:49, processor time 00:12:39, processor:wall ratio 4.49x\n",
      "Total time: 00:02:53\n",
      "Wall time: 2min 53s\n"
     ]
    }
   ],
   "source": [
    "%%time\n",
    "import importlib\n",
    "importlib.reload(CapstoneOverlap)\n",
    "gdfjmp = intersectGDFMP(gdf1, key1, gdf2, key2, areas_in, verbosity, area_epsg, apply_buffer, threshold, vertex_limit, check_inputs, num_process, num_block)"
   ]
  },
  {
   "cell_type": "markdown",
   "id": "0243f3e9",
   "metadata": {},
   "source": [
    "## Timing Results\n",
    "\n",
    "Singular Areas:\n",
    "\n",
    "    Digital:\n",
    "        On startup:\n",
    "        Finished 1/29, wall time 00:00:12\n",
    "        Finished 10/29, wall time 00:00:20\n",
    "        Finished 20/29, wall time 00:00:37\n",
    "        Finished 29/29, wall time 00:00:55\n",
    "        Pool processing concluded, process count 29/29, wall time 00:00:55, processor time 00:03:55, processor:wall ratio 4.26x\n",
    "        Total time: 00:00:58\n",
    "        Wall time: 59.1 s\n",
    "        \n",
    "        After heavy computing:\n",
    "        Finished 1/29, wall time 00:00:15\n",
    "        Finished 10/29, wall time 00:00:26\n",
    "        Finished 20/29, wall time 00:00:50\n",
    "        Finished 29/29, wall time 00:01:36\n",
    "        Pool processing concluded, process count 29/29, wall time 00:01:36, processor time 00:08:04, processor:wall ratio 5.02x\n",
    "        Total time: 00:01:40\n",
    "        Wall time: 1min 40s\n",
    "        \n",
    "        After moderate computing:\n",
    "        Wall time: 1min 21s\n",
    "        \n",
    "    Cartographic:\n",
    "        Finished 1/29, wall time 00:01:21\n",
    "        Finished 10/29, wall time 00:02:37\n",
    "        Finished 20/29, wall time 00:04:28\n",
    "        Finished 29/29, wall time 00:07:45\n",
    "        Pool processing concluded, process count 29/29, wall time 00:07:45, processor time 00:46:39, processor:wall ratio 6.02x\n",
    "        Total time: 00:12:00\n",
    "        Wall time: 12min\n",
    "\n",
    "Thresholded Areas:\n",
    "\n",
    "    Digital:\n",
    "        2nd after startup:\n",
    "        Finished 1/29, wall time 00:00:11\n",
    "        Finished 10/29, wall time 00:00:19\n",
    "        Finished 20/29, wall time 00:00:36\n",
    "        Finished 29/29, wall time 00:00:56\n",
    "        Pool processing concluded, process count 29/29, wall time 00:00:56, processor time 00:03:56, processor:wall ratio 4.2x\n",
    "        Total time: 00:01:00\n",
    "        Wall time: 1min\n",
    "        \n",
    "        After moderate computing:\n",
    "        Finished 1/29, wall time 00:00:13\n",
    "        Finished 10/29, wall time 00:00:23\n",
    "        Finished 20/29, wall time 00:00:45\n",
    "        Finished 29/29, wall time 00:01:09\n",
    "        Pool processing concluded, process count 29/29, wall time 00:01:09, processor time 00:04:55, processor:wall ratio 4.26x\n",
    "        Total time: 00:01:13\n",
    "        Wall time: 1min 13s\n",
    "        \n",
    "    Cartographic:\n",
    "        Finished 1/29, wall time 00:01:31\n",
    "        Finished 10/29, wall time 00:02:59\n",
    "        Finished 20/29, wall time 00:05:07\n",
    "        Finished 29/29, wall time 00:08:24\n",
    "        Pool processing concluded, process count 29/29, wall time 00:08:24, processor time 00:51:50, processor:wall ratio 6.16x\n",
    "        Total time: 00:13:21\n",
    "        Wall time: 13min 21s\n",
    "        \n",
    "Areas Shortcut:\n",
    "\n",
    "    Digital:\n",
    "        Third run after startup:\n",
    "        Finished 1/29, wall time 00:00:15\n",
    "        Finished 10/29, wall time 00:00:25\n",
    "        Finished 20/29, wall time 00:00:46\n",
    "        Finished 29/29, wall time 00:01:31\n",
    "        Pool processing concluded, process count 29/29, wall time 00:01:31, processor time 00:07:26, processor:wall ratio 4.89x\n",
    "        Total time: 00:01:35\n",
    "        Wall time: 1min 35s\n",
    "        \n",
    "        After moderate computing:\n",
    "        Finished 1/29, wall time 00:00:15\n",
    "        Finished 10/29, wall time 00:00:26\n",
    "        Finished 20/29, wall time 00:00:50\n",
    "        Finished 29/29, wall time 00:01:36\n",
    "        Pool processing concluded, process count 29/29, wall time 00:01:36, processor time 00:08:04, processor:wall ratio 5.02x\n",
    "        Total time: 00:01:40\n",
    "        Wall time: 1min 40s\n",
    "        \n",
    "    Cartographic:\n",
    "        Finished 1/29, wall time 00:01:33\n",
    "        Finished 10/29, wall time 00:02:59\n",
    "        Finished 20/29, wall time 00:05:31\n",
    "        Finished 29/29, wall time 00:09:56\n",
    "        Pool processing concluded, process count 29/29, wall time 00:09:56, processor time 01:01:52, processor:wall ratio 6.22x\n",
    "        Total time: 00:14:31\n",
    "        Wall time: 14min 31s\n",
    "        \n",
    "All Overlaps:\n",
    "\n",
    "    Digital:\n",
    "        Fourth run after startup:\n",
    "        Finished 1/29, wall time 00:00:16\n",
    "        Finished 10/29, wall time 00:00:27\n",
    "        Finished 20/29, wall time 00:00:49\n",
    "        Finished 29/29, wall time 00:01:45\n",
    "        Pool processing concluded, process count 29/29, wall time 00:01:45, processor time 00:09:02, processor:wall ratio 5.13x\n",
    "        Total time: 00:01:50\n",
    "        Wall time: 1min 50s\n",
    "        \n",
    "        Fifth run after startup, after 5 min cooldown\n",
    "        Finished 1/29, wall time 00:00:16\n",
    "        Finished 10/29, wall time 00:00:27\n",
    "        Finished 20/29, wall time 00:00:52\n",
    "        Finished 29/29, wall time 00:01:50\n",
    "        Pool processing concluded, process count 29/29, wall time 00:01:50, processor time 00:09:25, processor:wall ratio 5.1x\n",
    "        Total time: 00:01:54\n",
    "        Wall time: 1min 54s\n",
    "        \n",
    "        Previous best (longer pause before running?)\n",
    "        Finished 1/29, wall time 00:00:14\n",
    "        Finished 10/29, wall time 00:00:25\n",
    "        Finished 20/29, wall time 00:00:45\n",
    "        Finished 29/29, wall time 00:01:38\n",
    "        Pool processing concluded, process count 29/29, wall time 00:01:38, processor time 00:08:24, processor:wall ratio 5.13x\n",
    "        Total time: 00:01:41\n",
    "        Wall time: 1min 41s\n",
    "        \n",
    "        Previous after heavy load (thermal and memory issues?)\n",
    "        Finished 1/29, wall time 00:00:29\n",
    "        Finished 10/29, wall time 00:00:50\n",
    "        Finished 20/29, wall time 00:01:18\n",
    "        Finished 29/29, wall time 00:02:38\n",
    "        Pool processing concluded, process count 29/29, wall time 00:02:38, processor time 00:14:36, processor:wall ratio 5.53x\n",
    "        Total time: 00:02:42\n",
    "        Wall time: 2min 42s\n",
    "        \n",
    "    Cartographic:\n",
    "        Finished 1/29, wall time 00:00:55\n",
    "        Finished 10/29, wall time 00:02:17\n",
    "        Finished 20/29, wall time 00:05:14\n",
    "        Finished 29/29, wall time 00:10:56\n",
    "        Pool processing concluded, process count 29/29, wall time 00:10:56, processor time 01:01:27, processor:wall ratio 5.61x\n",
    "        Total time: 00:14:36\n",
    "        Wall time: 14min 36s"
   ]
  },
  {
   "cell_type": "code",
   "execution_count": 211,
   "id": "7003de37",
   "metadata": {},
   "outputs": [
    {
     "name": "stdout",
     "output_type": "stream",
     "text": [
      "Executing intersectGDFMP\n",
      "  num_process set to 10 (of 12)\n",
      "  num_block set to 2000 (of 56590)\n",
      "Generating pool, P=10, N=56590, DIV=2000, NDIV=29\n",
      "Processing pool\n"
     ]
    },
    {
     "data": {
      "text/html": [
       "<div><span class=\"Text-label\" style=\"display:inline-block; overflow:hidden; white-space:nowrap; text-overflow:ellipsis; min-width:0; max-width:15ex; vertical-align:middle; text-align:right\"></span>\n",
       "<progress style=\"width:60ex\" max=\"29\" value=\"29\" class=\"Progress-main\"/></progress>\n",
       "<span class=\"Progress-label\"><strong>100%</strong></span>\n",
       "<span class=\"Iteration-label\">29/29</span>\n",
       "<span class=\"Time-label\">[02:15<00:03, 4.67s/it]</span></div>"
      ],
      "text/plain": [
       "\u001b[A\u001b[2K\r",
       " [████████████████████████████████████████████████████████████] 29/29 [02:15<00:03, 4.67s/it]"
      ]
     },
     "metadata": {},
     "output_type": "display_data"
    },
    {
     "name": "stdout",
     "output_type": "stream",
     "text": [
      "Finished 1/29, wall time 00:00:26\n",
      "Finished 10/29, wall time 00:00:50\n",
      "Finished 20/29, wall time 00:01:38\n",
      "Finished 29/29, wall time 00:02:15\n",
      "Pool processing concluded, process count 29/29, wall time 00:02:16, processor time 00:08:21, processor:wall ratio 3.68x\n",
      "Total time: 00:02:24\n",
      "Wall time: 2min 24s\n"
     ]
    }
   ],
   "source": [
    "%%time\n",
    "import importlib\n",
    "importlib.reload(CapstoneOverlap)\n",
    "gdfjmp_alt = CapstoneOverlap.intersectGDFMP(gdf1, key1, gdf2, key2, areas_in, verbosity, area_epsg, apply_buffer, threshold, vertex_limit, check_inputs, num_process, num_block)"
   ]
  },
  {
   "cell_type": "code",
   "execution_count": 212,
   "id": "f35624e1",
   "metadata": {},
   "outputs": [
    {
     "data": {
      "text/plain": [
       "(56613, 7)"
      ]
     },
     "execution_count": 212,
     "metadata": {},
     "output_type": "execute_result"
    }
   ],
   "source": [
    "gdfjmp_alt.shape"
   ]
  },
  {
   "cell_type": "markdown",
   "id": "38c33f32",
   "metadata": {},
   "source": [
    "Copied intersectGDFMP to CapstoneOverlap.py in attempt to consolidate all functionality... separate file requirement is only for Jupyter."
   ]
  },
  {
   "cell_type": "code",
   "execution_count": 20,
   "id": "0596c28d",
   "metadata": {},
   "outputs": [
    {
     "name": "stdout",
     "output_type": "stream",
     "text": [
      "Executing intersectGDFMP\n",
      "  num_process set to 10 (of 12)\n",
      "  num_block set to 2000 (of 56590)\n",
      "Generating pool, P=10, N=56590, DIV=2000, NDIV=29\n",
      "Processing pool\n"
     ]
    },
    {
     "data": {
      "text/html": [
       "<div><span class=\"Text-label\" style=\"display:inline-block; overflow:hidden; white-space:nowrap; text-overflow:ellipsis; min-width:0; max-width:15ex; vertical-align:middle; text-align:right\"></span>\n",
       "<progress style=\"width:60ex\" max=\"29\" value=\"29\" class=\"Progress-main\"/></progress>\n",
       "<span class=\"Progress-label\"><strong>100%</strong></span>\n",
       "<span class=\"Iteration-label\">29/29</span>\n",
       "<span class=\"Time-label\">[02:12<00:04, 4.55s/it]</span></div>"
      ],
      "text/plain": [
       "\u001b[A\u001b[2K\r",
       " [████████████████████████████████████████████████████████████] 29/29 [02:12<00:04, 4.55s/it]"
      ]
     },
     "metadata": {},
     "output_type": "display_data"
    },
    {
     "name": "stdout",
     "output_type": "stream",
     "text": [
      "Finished 1/29, wall time 00:00:34\n",
      "Finished 10/29, wall time 00:00:50\n",
      "Finished 20/29, wall time 00:01:28\n",
      "Finished 29/29, wall time 00:02:12\n",
      "Pool processing concluded, process count 29/29, wall time 00:02:12, processor time 00:10:29, processor:wall ratio 4.74x\n",
      "Total time: 00:02:18\n",
      "Wall time: 2min 18s\n"
     ]
    }
   ],
   "source": [
    "%%time\n",
    "import importlib\n",
    "importlib.reload(CapstoneOverlap)\n",
    "gdfjmp = CapstoneOverlap.intersectGDFMP(gdf1, key1, gdf2, key2, areas_in, verbosity, area_epsg, apply_buffer, threshold, vertex_limit, check_inputs, num_process, num_block)"
   ]
  },
  {
   "cell_type": "code",
   "execution_count": 23,
   "id": "309eea4d",
   "metadata": {},
   "outputs": [
    {
     "name": "stdout",
     "output_type": "stream",
     "text": [
      "Wall time: 13h 37min 45s\n"
     ]
    }
   ],
   "source": [
    "%%time\n",
    "import shapely\n",
    "total = shapely.ops.unary_union(gdfjmp.geometry)"
   ]
  },
  {
   "cell_type": "code",
   "execution_count": null,
   "id": "63e55a0c",
   "metadata": {},
   "outputs": [],
   "source": [
    "%%time\n",
    "total"
   ]
  },
  {
   "cell_type": "markdown",
   "id": "fc18c9cc",
   "metadata": {},
   "source": [
    "Try removing interior coordinates with area less than a threshold..."
   ]
  },
  {
   "cell_type": "code",
   "execution_count": 81,
   "id": "fd4eb68a",
   "metadata": {},
   "outputs": [
    {
     "data": {
      "text/plain": [
       "'MultiPolygon'"
      ]
     },
     "execution_count": 81,
     "metadata": {},
     "output_type": "execute_result"
    }
   ],
   "source": [
    "total.type"
   ]
  },
  {
   "cell_type": "code",
   "execution_count": 26,
   "id": "dcd3c9a3",
   "metadata": {},
   "outputs": [
    {
     "data": {
      "text/plain": [
       "5"
      ]
     },
     "execution_count": 26,
     "metadata": {},
     "output_type": "execute_result"
    }
   ],
   "source": [
    "len(total)"
   ]
  },
  {
   "cell_type": "code",
   "execution_count": null,
   "id": "f1a8f6a7",
   "metadata": {},
   "outputs": [],
   "source": [
    "total[0]"
   ]
  },
  {
   "cell_type": "code",
   "execution_count": 28,
   "id": "95334345",
   "metadata": {},
   "outputs": [
    {
     "data": {
      "image/svg+xml": [
       "<svg xmlns=\"http://www.w3.org/2000/svg\" xmlns:xlink=\"http://www.w3.org/1999/xlink\" width=\"300\" height=\"300\" viewBox=\"8159569.0059476 1321497.2259476 28304.39953480009 41625.58524479973\" preserveAspectRatio=\"xMinYMin meet\"><g transform=\"matrix(1,0,0,-1,0,2684620.0371399997)\"><path fill-rule=\"evenodd\" fill=\"#66cc99\" stroke=\"#555555\" stroke-width=\"277.5039016319982\" opacity=\"0.6\" d=\"M 8163815.68857,1352849.71143 L 8163877.77715,1352897.27715 L 8167491.82,1355666.00286 L 8169075.10572,1356878.96 L 8174970.63429,1361559.26 L 8174998.17143,1361581.12285 L 8176321.15143,1358294.25429 L 8177391.30857,1355622.14857 L 8179261.78285,1350951.71143 L 8179548.65428,1350180.12 L 8179748.82857,1349641.72857 L 8179755.48286,1349628.56857 L 8179755.59715,1349628.34286 L 8180470.99715,1348214.18286 L 8181042.01428,1346988.17143 L 8181159.4,1346689.19143 L 8182997.85714,1342006.62857 L 8183006.99143,1341983.36572 L 8184822.28285,1337322.06286 L 8186106.90857,1333692.99429 L 8186203.25428,1333114.91429 L 8186331.71714,1332568.94572 L 8186299.60285,1331027.39715 L 8185849.98285,1329261.03429 L 8184886.51428,1327912.17715 L 8182651.63428,1327052.60857 L 8182600.81714,1327033.06286 L 8180293.97714,1326145.81715 L 8176530.13714,1324694.01715 L 8172280.54857,1323038.91429 L 8171184.60285,1323038.91429 L 8170379.41714,1323396.77429 L 8169238.73714,1324246.69143 L 8167784.93143,1327232.58857 L 8167369.49143,1328335.88857 L 8165056.24857,1334479.25429 L 8164850.41143,1337133.13428 L 8164775.12286,1338103.85428 L 8164548.34857,1341027.71143 L 8164447.65715,1342325.95715 L 8164377.74,1343227.41715 L 8164312.42572,1344069.54285 L 8164310.12286,1344099.20286 L 8164146.88857,1346678.33715 L 8161856.22,1347515.78572 L 8161813.41428,1347531.43429 L 8161110.69429,1347788.34286 L 8161133.25715,1347831.29429 L 8163815.68857,1352849.71143 z\" /></g></svg>"
      ],
      "text/plain": [
       "<shapely.geometry.polygon.Polygon at 0x1b27e187688>"
      ]
     },
     "execution_count": 28,
     "metadata": {},
     "output_type": "execute_result"
    }
   ],
   "source": [
    "total[1]"
   ]
  },
  {
   "cell_type": "code",
   "execution_count": 177,
   "id": "acc94a3d",
   "metadata": {},
   "outputs": [
    {
     "data": {
      "image/svg+xml": [
       "<svg xmlns=\"http://www.w3.org/2000/svg\" xmlns:xlink=\"http://www.w3.org/1999/xlink\" width=\"300\" height=\"300\" viewBox=\"8682215.742971601 1493120.2486916 47627.919766798615 35042.47404679982\" preserveAspectRatio=\"xMinYMin meet\"><g transform=\"matrix(1,0,0,-1,0,3021282.97143)\"><path fill-rule=\"evenodd\" fill=\"#66cc99\" stroke=\"#555555\" stroke-width=\"317.51946511199077\" opacity=\"0.6\" d=\"M 8683979.74,1496689.96857 L 8684966.32,1497232.21143 L 8685173.23429,1497343.93715 L 8686720.48572,1498174.86857 L 8689713.98,1499801.94 L 8691159.38857,1500583.88286 L 8691743.87143,1500903.76857 L 8693133.99143,1500959.05715 L 8693355.14572,1500986.70286 L 8694484.61715,1501168.36572 L 8695606.19143,1501310.53715 L 8697422.82286,1501575.13429 L 8698789.24572,1501768.64572 L 8699207.86286,1501835.78 L 8701198.26,1502128.02286 L 8702193.46,1502463.70286 L 8703196.55715,1502755.94572 L 8703788.93715,1502925.76 L 8705100.07143,1503723.5 L 8706656.05715,1504623.91715 L 8707077.95143,1504873.92857 L 8707082.57143,1504876.66572 L 8707422.20286,1505097.82286 L 8708812.32286,1505958.74857 L 8709839.11429,1506732.79143 L 8711489.88,1508091.31715 L 8712587.76,1509228.68857 L 8714088.45715,1510891.30286 L 8715597.05143,1512593.40857 L 8716055.15714,1513106.80286 L 8717342.59715,1514824.70572 L 8717475.47715,1515002.44 L 8718898.58285,1516905.93715 L 8721678.82286,1520633.98286 L 8722926.76857,1522304.49429 L 8724269.5,1524069.78857 L 8724585.43429,1524464.70857 L 8726066.47428,1526398.72571 L 8728079.66571,1522672.18 L 8727502.70857,1520541.16572 L 8725412.03428,1512819.16286 L 8724766.64,1510969.03143 L 8719130.19714,1504299.95715 L 8718829.01428,1503869.69429 L 8717667.30571,1503095.22286 L 8711299.41428,1499739.17143 L 8710201.82857,1499169.27143 L 8710180.72857,1499158.31715 L 8710223.75714,1499072.26572 L 8709416.18,1498645.10857 L 8708624.42,1498249.22572 L 8705046.83714,1497032.26286 L 8703126.08285,1496328.47429 L 8700193.63714,1495829.96 L 8697041.25714,1495265.46286 L 8693947.52571,1494906.23715 L 8693566.30857,1494884.24572 L 8693490.75143,1494894.98572 L 8690677.84857,1495294.78857 L 8688419.86571,1495778.64 L 8688224.27714,1495820.50572 L 8688220.38571,1495821.34 L 8688219.00857,1495821.58286 L 8685211.89143,1496354.28572 L 8684516.83143,1496472.76286 L 8683979.74,1496689.96857 z\" /></g></svg>"
      ],
      "text/plain": [
       "<shapely.geometry.polygon.Polygon at 0x1b200007248>"
      ]
     },
     "execution_count": 177,
     "metadata": {},
     "output_type": "execute_result"
    }
   ],
   "source": [
    "total[2]"
   ]
  },
  {
   "cell_type": "code",
   "execution_count": 178,
   "id": "2224266d",
   "metadata": {},
   "outputs": [
    {
     "data": {
      "image/svg+xml": [
       "<svg xmlns=\"http://www.w3.org/2000/svg\" xmlns:xlink=\"http://www.w3.org/1999/xlink\" width=\"300\" height=\"300\" viewBox=\"8385637.2433156 1750480.9633155998 41973.17336880043 103004.67908880021\" preserveAspectRatio=\"xMinYMin meet\"><g transform=\"matrix(1,0,0,-1,0,3603966.60572)\"><path fill-rule=\"evenodd\" fill=\"#66cc99\" stroke=\"#555555\" stroke-width=\"686.6978605920015\" opacity=\"0.6\" d=\"M 8393158.33715,1756238.58857 L 8393046.08857,1756638.46857 L 8392962.85143,1756935.00572 L 8392865.10857,1757533.68286 L 8392893.38857,1757851.83143 L 8392913.98,1758083.48572 L 8392928.21715,1758135.1 L 8393011.72286,1758437.80286 L 8393207.20857,1759317.48857 L 8393292.73429,1759561.84572 L 8393317.17143,1759891.72572 L 8393235.26,1760637.1 L 8393222.56857,1760752.60286 L 8393221.80286,1760759.56572 L 8393221.63715,1760761.07429 L 8393194.99143,1761003.55143 L 8393109.46572,1761846.58286 L 8392816.23714,1762811.79429 L 8392608.53429,1763239.41715 L 8392278.65429,1763972.48857 L 8392034.29715,1764620.03429 L 8391735.09715,1765243.36572 L 8391735.09714,1765243.36572 L 8391594.45429,1765536.37429 L 8391424.02,1765951.80286 L 8391203.48286,1766489.36572 L 8390885.99429,1767225.82572 L 8390364.64286,1768476.06 L 8389979.99715,1769398.46286 L 8389452.23143,1770629.91429 L 8389460.52857,1771314.32857 L 8389461.04857,1771357.30857 L 8389469.82286,1772081.27143 L 8389471.08285,1772136.21715 L 8389497.28286,1773279.21143 L 8389510.87143,1773872.00857 L 8389525.75429,1774444.97143 L 8389547.52286,1775283.04857 L 8389542.70572,1775406.06286 L 8389569.53429,1775562.56 L 8389587.42,1775701.16857 L 8389596.36286,1776036.51715 L 8389676.84571,1776255.61429 L 8389806.51429,1776537.30572 L 8389873.58285,1776653.56 L 8390146.33429,1777073.86572 L 8390234.46572,1777208.79429 L 8390651.59429,1777847.40286 L 8390977.32286,1778353.58286 L 8391382.77143,1778983.64857 L 8391603.98572,1779327.41143 L 8391664.81429,1779439.13429 L 8392052.95715,1779950.44 L 8392306.74285,1780290.06286 L 8392460.50285,1780499.73715 L 8392587.60286,1780673.05429 L 8392635.17143,1780737.92 L 8392956.13715,1781223.1 L 8393486.1,1782126.27715 L 8393575.67143,1782312.88572 L 8393821.99429,1782686.1 L 8394351.95715,1784022.20572 L 8394755.02857,1785007.49143 L 8395404.42285,1786657.1 L 8395904.52857,1787985.74286 L 8396306.98286,1789021.46572 L 8396412.1,1789291.99143 L 8396604.84857,1789788.14 L 8396702.02572,1790038.75429 L 8396988.44286,1790803.38857 L 8397085.62,1791054.00286 L 8397152.68857,1791421.36 L 8397152.82,1791421.91429 L 8397351.17143,1792268.22 L 8397706.52,1794044.96 L 8398200.06,1796394.20572 L 8398331.15143,1796761.26286 L 8398594.88857,1797499.73143 L 8399266.10286,1799276.47143 L 8399779.38286,1800678.12 L 8400114.98857,1801586.23143 L 8401180.20572,1804752.29143 L 8401181.03143,1804754.75143 L 8401196.64572,1811374.88286 L 8400983.31143,1815032.04572 L 8400769.10286,1818704.21429 L 8400695.71143,1822838.39143 L 8400677.48286,1823865.28857 L 8400677.48285,1823865.28857 L 8400254.82,1824448.96857 L 8399394.85143,1825636.54572 L 8399493.97715,1827109.25715 L 8399758.86857,1831044.82286 L 8399822.39429,1831988.63429 L 8413656.51429,1842646.70572 L 8422207.40572,1849670.65429 L 8423184.64857,1849548.49715 L 8423795.42857,1848632.33143 L 8423795.42857,1847349.69715 L 8422207.40571,1843990.42 L 8420588.84285,1839562.27429 L 8418817.58571,1835592.21429 L 8418553.60857,1833949.68286 L 8418267.88571,1832171.86286 L 8418103.69428,1827246.06572 L 8418084.65428,1826674.86286 L 8418267.88571,1818673.67143 L 8417249.32285,1812536.18 L 8417076.86857,1811497.02857 L 8416557.70857,1808427.86857 L 8415725.37714,1806039.26 L 8415710.31714,1805996.04286 L 8415232.42857,1805079.12286 L 8414908.60857,1804457.81143 L 8413945.41428,1803622.33143 L 8412752.84,1802587.88572 L 8409827.96857,1800050.83429 L 8408162.67714,1798588.85429 L 8406855.99428,1797231.52286 L 8406359.65714,1796684.54 L 8405516.54571,1795720.98572 L 8405514.0,1795718.07429 L 8405366.98285,1795550.05429 L 8405154.26571,1795155.01143 L 8404992.19714,1794800.48572 L 8404637.67143,1794030.65429 L 8404329.74,1793179.79429 L 8404135.25428,1792369.44572 L 8404070.42857,1791688.75715 L 8404232.49714,1790878.40857 L 8404621.46285,1789743.92286 L 8406141.84571,1786210.29429 L 8406312.33143,1785751.44857 L 8406735.95714,1784611.31715 L 8407232.46571,1783275.04 L 8407350.04285,1782958.6 L 8407350.04286,1782958.6 L 8408334.5,1781392.41715 L 8409751.52572,1779274.33715 L 8411019.38857,1777525.43429 L 8411439.70286,1776922.26286 L 8412184.72,1775879.24286 L 8412192.33143,1775868.58572 L 8415855.11714,1773234.38857 L 8415353.36571,1770374.40572 L 8414061.13428,1768651.42857 L 8414070.62,1768656.31428 L 8413969.70571,1768536.59715 L 8413543.28857,1768030.72 L 8413123.00285,1767506.03429 L 8412964.12,1767309.48 L 8412815.25714,1767138.22 L 8411575.72285,1765660.96857 L 8408502.36,1761840.48857 L 8407840.14571,1760974.51429 L 8407418.08285,1760439.90286 L 8407055.28571,1759980.36 L 8405802.55428,1758393.56572 L 8404851.68,1757527.59143 L 8404327.62,1757246.38857 L 8402595.84857,1756381.48572 L 8401627.67714,1755924.94857 L 8400956.28571,1755608.35715 L 8399423.36,1754901.88 L 8398596.91428,1754595.29429 L 8398272.07428,1754541.15429 L 8398197.02,1754528.64572 L 8398162.43428,1754521.23429 L 8397637.16857,1754408.67715 L 8396478.67143,1754341.27429 L 8396478.5,1754341.26572 L 8396476.57143,1754341.15143 L 8395699.65143,1754295.95143 L 8395100.97714,1754528.08857 L 8394294.6,1754992.36857 L 8393683.70571,1755468.86572 L 8393280.51714,1756006.44857 L 8393158.33715,1756238.58857 z\" /></g></svg>"
      ],
      "text/plain": [
       "<shapely.geometry.polygon.Polygon at 0x1b203235748>"
      ]
     },
     "execution_count": 178,
     "metadata": {},
     "output_type": "execute_result"
    }
   ],
   "source": [
    "total[3]"
   ]
  },
  {
   "cell_type": "code",
   "execution_count": 179,
   "id": "14529bc4",
   "metadata": {},
   "outputs": [
    {
     "data": {
      "image/svg+xml": [
       "<svg xmlns=\"http://www.w3.org/2000/svg\" xmlns:xlink=\"http://www.w3.org/1999/xlink\" width=\"100.0\" height=\"100.0\" viewBox=\"7224780.2942796005 933743.2371396 1.0798685252666473e-05 1.079996582120657e-05\" preserveAspectRatio=\"xMinYMin meet\"><g transform=\"matrix(1,0,0,-1,0,1867486.4742899998)\"><path fill-rule=\"evenodd\" fill=\"#66cc99\" stroke=\"#555555\" stroke-width=\"2.159993164241314e-07\" opacity=\"0.6\" d=\"M 7224780.29428,933743.23715 L 7224780.29429,933743.23715 L 7224780.29429,933743.23714 L 7224780.29428,933743.23715 z\" /></g></svg>"
      ],
      "text/plain": [
       "<shapely.geometry.polygon.Polygon at 0x1b203235fc8>"
      ]
     },
     "execution_count": 179,
     "metadata": {},
     "output_type": "execute_result"
    }
   ],
   "source": [
    "total[4]"
   ]
  },
  {
   "cell_type": "code",
   "execution_count": 32,
   "id": "11a60815",
   "metadata": {},
   "outputs": [
    {
     "data": {
      "text/plain": [
       "[953099, 49, 66, 178, 4]"
      ]
     },
     "execution_count": 32,
     "metadata": {},
     "output_type": "execute_result"
    }
   ],
   "source": [
    "cc = [countCoordinates(t) for t in total]\n",
    "cc"
   ]
  },
  {
   "cell_type": "code",
   "execution_count": 33,
   "id": "fa9c822c",
   "metadata": {},
   "outputs": [
    {
     "data": {
      "text/plain": [
       "'MultiPolygon'"
      ]
     },
     "execution_count": 33,
     "metadata": {},
     "output_type": "execute_result"
    }
   ],
   "source": [
    "total.type"
   ]
  },
  {
   "cell_type": "code",
   "execution_count": 36,
   "id": "4941059b",
   "metadata": {},
   "outputs": [
    {
     "name": "stdout",
     "output_type": "stream",
     "text": [
      "LINEARRING (7224780.29428 933743.2371499999, 7224780.29429 933743.2371499999, 7224780.29429 933743.23714, 7224780.29428 933743.2371499999)\n"
     ]
    }
   ],
   "source": [
    "print(total[4].exterior)"
   ]
  },
  {
   "cell_type": "code",
   "execution_count": 37,
   "id": "cdce28a5",
   "metadata": {},
   "outputs": [
    {
     "data": {
      "text/plain": [
       "['Polygon', 'Polygon', 'Polygon', 'Polygon', 'Polygon']"
      ]
     },
     "execution_count": 37,
     "metadata": {},
     "output_type": "execute_result"
    }
   ],
   "source": [
    "ct = [t.type for t in total]\n",
    "ct"
   ]
  },
  {
   "cell_type": "code",
   "execution_count": 39,
   "id": "bf8a6cab",
   "metadata": {},
   "outputs": [
    {
     "data": {
      "text/plain": [
       "[13819270164261.314,\n",
       " 578657432.4811883,\n",
       " 336766285.4489063,\n",
       " 1373830187.6205084,\n",
       " 4.999785107413432e-11]"
      ]
     },
     "execution_count": 39,
     "metadata": {},
     "output_type": "execute_result"
    }
   ],
   "source": [
    "ca = [t.area for t in total]\n",
    "ca"
   ]
  },
  {
   "cell_type": "code",
   "execution_count": 50,
   "id": "7ca4a781",
   "metadata": {},
   "outputs": [
    {
     "name": "stdout",
     "output_type": "stream",
     "text": [
      "LINEARRING (8393158.33715 1756238.58857, 8393046.088570001 1756638.46857, 8392962.851430001 1756935.00572, 8392865.10857 1757533.68286, 8392893.388569999 1757851.83143, 8392913.98 1758083.48572, 8392928.217150001 1758135.1, 8393011.722859999 1758437.80286, 8393207.20857 1759317.48857, 8393292.73429 1759561.84572, 8393317.171429999 1759891.72572, 8393235.26 1760637.1, 8393222.568569999 1760752.60286, 8393221.802859999 1760759.56572, 8393221.637150001 1760761.07429, 8393194.991429999 1761003.55143, 8393109.46572 1761846.58286, 8392816.23714 1762811.79429, 8392608.534290001 1763239.41715, 8392278.65429 1763972.48857, 8392034.297150001 1764620.03429, 8391735.09715 1765243.36572, 8391735.097139999 1765243.36572, 8391594.454290001 1765536.37429, 8391424.02 1765951.80286, 8391203.482860001 1766489.36572, 8390885.99429 1767225.82572, 8390364.642859999 1768476.06, 8389979.99715 1769398.46286, 8389452.23143 1770629.91429, 8389460.52857 1771314.32857, 8389461.04857 1771357.30857, 8389469.822860001 1772081.27143, 8389471.08285 1772136.21715, 8389497.28286 1773279.21143, 8389510.87143 1773872.00857, 8389525.75429 1774444.97143, 8389547.52286 1775283.04857, 8389542.70572 1775406.06286, 8389569.534290001 1775562.56, 8389587.42 1775701.16857, 8389596.36286 1776036.51715, 8389676.84571 1776255.61429, 8389806.514289999 1776537.30572, 8389873.58285 1776653.56, 8390146.33429 1777073.86572, 8390234.46572 1777208.79429, 8390651.594289999 1777847.40286, 8390977.322860001 1778353.58286, 8391382.771430001 1778983.64857, 8391603.985719999 1779327.41143, 8391664.81429 1779439.13429, 8392052.957149999 1779950.44, 8392306.74285 1780290.06286, 8392460.50285 1780499.73715, 8392587.60286 1780673.05429, 8392635.171429999 1780737.92, 8392956.137150001 1781223.1, 8393486.1 1782126.27715, 8393575.671429999 1782312.88572, 8393821.99429 1782686.1, 8394351.957149999 1784022.20572, 8394755.02857 1785007.49143, 8395404.42285 1786657.1, 8395904.52857 1787985.74286, 8396306.982860001 1789021.46572, 8396412.1 1789291.99143, 8396604.84857 1789788.14, 8396702.02572 1790038.75429, 8396988.44286 1790803.38857, 8397085.619999999 1791054.00286, 8397152.68857 1791421.36, 8397152.82 1791421.91429, 8397351.171429999 1792268.22, 8397706.52 1794044.96, 8398200.060000001 1796394.20572, 8398331.15143 1796761.26286, 8398594.888569999 1797499.73143, 8399266.10286 1799276.47143, 8399779.382859999 1800678.12, 8400114.988569999 1801586.23143, 8401180.20572 1804752.29143, 8401181.03143 1804754.75143, 8401196.645719999 1811374.88286, 8400983.31143 1815032.04572, 8400769.10286 1818704.21429, 8400695.71143 1822838.39143, 8400677.482860001 1823865.28857, 8400677.48285 1823865.28857, 8400254.82 1824448.96857, 8399394.851430001 1825636.54572, 8399493.977150001 1827109.25715, 8399758.86857 1831044.82286, 8399822.39429 1831988.63429, 8413656.514289999 1842646.70572, 8422207.405719999 1849670.65429, 8423184.648569999 1849548.49715, 8423795.42857 1848632.33143, 8423795.42857 1847349.69715, 8422207.405710001 1843990.42, 8420588.84285 1839562.27429, 8418817.58571 1835592.21429, 8418553.60857 1833949.68286, 8418267.885709999 1832171.86286, 8418103.69428 1827246.06572, 8418084.654279999 1826674.86286, 8418267.885709999 1818673.67143, 8417249.32285 1812536.18, 8417076.86857 1811497.02857, 8416557.70857 1808427.86857, 8415725.37714 1806039.26, 8415710.31714 1805996.04286, 8415232.42857 1805079.12286, 8414908.60857 1804457.81143, 8413945.414279999 1803622.33143, 8412752.84 1802587.88572, 8409827.96857 1800050.83429, 8408162.677139999 1798588.85429, 8406855.994279999 1797231.52286, 8406359.65714 1796684.54, 8405516.545709999 1795720.98572, 8405514 1795718.07429, 8405366.98285 1795550.05429, 8405154.26571 1795155.01143, 8404992.197140001 1794800.48572, 8404637.671429999 1794030.65429, 8404329.74 1793179.79429, 8404135.254280001 1792369.44572, 8404070.42857 1791688.75715, 8404232.49714 1790878.40857, 8404621.462850001 1789743.92286, 8406141.84571 1786210.29429, 8406312.331429999 1785751.44857, 8406735.957140001 1784611.31715, 8407232.465709999 1783275.04, 8407350.042850001 1782958.6, 8407350.042859999 1782958.6, 8408334.5 1781392.41715, 8409751.52572 1779274.33715, 8411019.388569999 1777525.43429, 8411439.70286 1776922.26286, 8412184.720000001 1775879.24286, 8412192.331429999 1775868.58572, 8415855.117140001 1773234.38857, 8415353.36571 1770374.40572, 8414061.13428 1768651.42857, 8414070.619999999 1768656.31428, 8413969.705709999 1768536.59715, 8413543.28857 1768030.72, 8413123.00285 1767506.03429, 8412964.119999999 1767309.48, 8412815.257139999 1767138.22, 8411575.72285 1765660.96857, 8408502.359999999 1761840.48857, 8407840.145710001 1760974.51429, 8407418.08285 1760439.90286, 8407055.28571 1759980.36, 8405802.55428 1758393.56572, 8404851.68 1757527.59143, 8404327.619999999 1757246.38857, 8402595.84857 1756381.48572, 8401627.677139999 1755924.94857, 8400956.28571 1755608.35715, 8399423.359999999 1754901.88, 8398596.914279999 1754595.29429, 8398272.074279999 1754541.15429, 8398197.02 1754528.64572, 8398162.434280001 1754521.23429, 8397637.168570001 1754408.67715, 8396478.671429999 1754341.27429, 8396478.5 1754341.26572, 8396476.57143 1754341.15143, 8395699.65143 1754295.95143, 8395100.97714 1754528.08857, 8394294.6 1754992.36857, 8393683.705709999 1755468.86572, 8393280.517139999 1756006.44857, 8393158.33715 1756238.58857)\n"
     ]
    }
   ],
   "source": [
    "print(total[3].exterior)"
   ]
  },
  {
   "cell_type": "code",
   "execution_count": 51,
   "id": "e5fb44a6",
   "metadata": {},
   "outputs": [
    {
     "data": {
      "text/plain": [
       "[136972, 0, 0, 0, 0]"
      ]
     },
     "execution_count": 51,
     "metadata": {},
     "output_type": "execute_result"
    }
   ],
   "source": [
    "ci = [len(t.interiors) for t in total]\n",
    "\n",
    "ci"
   ]
  },
  {
   "cell_type": "code",
   "execution_count": 54,
   "id": "b18fe97c",
   "metadata": {},
   "outputs": [
    {
     "name": "stdout",
     "output_type": "stream",
     "text": [
      "POLYGON ((8683979.74 1496689.96857, 8684966.32 1497232.21143, 8685173.23429 1497343.93715, 8686720.485719999 1498174.86857, 8689713.98 1499801.94, 8691159.388569999 1500583.88286, 8691743.87143 1500903.76857, 8693133.991429999 1500959.05715, 8693355.145719999 1500986.70286, 8694484.617149999 1501168.36572, 8695606.191430001 1501310.53715, 8697422.822860001 1501575.13429, 8698789.245719999 1501768.64572, 8699207.86286 1501835.78, 8701198.26 1502128.02286, 8702193.460000001 1502463.70286, 8703196.557150001 1502755.94572, 8703788.93715 1502925.76, 8705100.07143 1503723.5, 8706656.057150001 1504623.91715, 8707077.95143 1504873.92857, 8707082.57143 1504876.66572, 8707422.20286 1505097.82286, 8708812.322860001 1505958.74857, 8709839.114290001 1506732.79143, 8711489.880000001 1508091.31715, 8712587.76 1509228.68857, 8714088.457149999 1510891.30286, 8715597.05143 1512593.40857, 8716055.15714 1513106.80286, 8717342.59715 1514824.70572, 8717475.477150001 1515002.44, 8718898.58285 1516905.93715, 8721678.822860001 1520633.98286, 8722926.76857 1522304.49429, 8724269.5 1524069.78857, 8724585.434289999 1524464.70857, 8726066.47428 1526398.72571, 8728079.66571 1522672.18, 8727502.70857 1520541.16572, 8725412.03428 1512819.16286, 8724766.640000001 1510969.03143, 8719130.197140001 1504299.95715, 8718829.014280001 1503869.69429, 8717667.305710001 1503095.22286, 8711299.414279999 1499739.17143, 8710201.828570001 1499169.27143, 8710180.728569999 1499158.31715, 8710223.757139999 1499072.26572, 8709416.18 1498645.10857, 8708624.42 1498249.22572, 8705046.837139999 1497032.26286, 8703126.08285 1496328.47429, 8700193.63714 1495829.96, 8697041.257139999 1495265.46286, 8693947.52571 1494906.23715, 8693566.308569999 1494884.24572, 8693490.751429999 1494894.98572, 8690677.84857 1495294.78857, 8688419.86571 1495778.64, 8688224.277140001 1495820.50572, 8688220.385709999 1495821.34, 8688219.008570001 1495821.58286, 8685211.89143 1496354.28572, 8684516.831429999 1496472.76286, 8683979.74 1496689.96857))\n"
     ]
    }
   ],
   "source": [
    "print(shapely.geometry.Polygon(total[2].exterior.coords))"
   ]
  },
  {
   "cell_type": "code",
   "execution_count": 89,
   "id": "2549a87d",
   "metadata": {},
   "outputs": [
    {
     "data": {
      "text/plain": [
       "336766285.4489063"
      ]
     },
     "execution_count": 89,
     "metadata": {},
     "output_type": "execute_result"
    }
   ],
   "source": [
    "shapely.geometry.Polygon(total[2].exterior.coords).area"
   ]
  },
  {
   "cell_type": "code",
   "execution_count": 95,
   "id": "d2f132fd",
   "metadata": {
    "collapsed": true,
    "jupyter": {
     "outputs_hidden": true
    }
   },
   "outputs": [
    {
     "data": {
      "image/svg+xml": [
       "<svg xmlns=\"http://www.w3.org/2000/svg\" xmlns:xlink=\"http://www.w3.org/1999/xlink\" width=\"300\" height=\"300\" viewBox=\"8682215.742971601 1493120.2486916 47627.919766798615 35042.47404679982\" preserveAspectRatio=\"xMinYMin meet\"><g transform=\"matrix(1,0,0,-1,0,3021282.97143)\"><path fill-rule=\"evenodd\" fill=\"#66cc99\" stroke=\"#555555\" stroke-width=\"317.51946511199077\" opacity=\"0.6\" d=\"M 8683979.74,1496689.96857 L 8684516.83143,1496472.76286 L 8685211.89143,1496354.28572 L 8688219.00857,1495821.58286 L 8688220.38571,1495821.34 L 8688224.27714,1495820.50572 L 8688419.86571,1495778.64 L 8690677.84857,1495294.78857 L 8693490.75143,1494894.98572 L 8693566.30857,1494884.24572 L 8693947.52571,1494906.23715 L 8697041.25714,1495265.46286 L 8700193.63714,1495829.96 L 8703126.08285,1496328.47429 L 8705046.83714,1497032.26286 L 8708624.42,1498249.22572 L 8709416.18,1498645.10857 L 8710223.75714,1499072.26572 L 8710180.72857,1499158.31715 L 8710201.82857,1499169.27143 L 8711299.41428,1499739.17143 L 8717667.30571,1503095.22286 L 8718829.01428,1503869.69429 L 8719130.19714,1504299.95715 L 8724766.64,1510969.03143 L 8725412.03428,1512819.16286 L 8727502.70857,1520541.16572 L 8728079.66571,1522672.18 L 8726066.47428,1526398.72571 L 8724585.43429,1524464.70857 L 8724269.5,1524069.78857 L 8722926.76857,1522304.49429 L 8721678.82286,1520633.98286 L 8718898.58285,1516905.93715 L 8717475.47715,1515002.44 L 8717342.59715,1514824.70572 L 8716055.15714,1513106.80286 L 8715597.05143,1512593.40857 L 8714088.45715,1510891.30286 L 8712587.76,1509228.68857 L 8711489.88,1508091.31715 L 8709839.11429,1506732.79143 L 8708812.32286,1505958.74857 L 8707422.20286,1505097.82286 L 8707082.57143,1504876.66572 L 8707077.95143,1504873.92857 L 8706656.05715,1504623.91715 L 8705100.07143,1503723.5 L 8703788.93715,1502925.76 L 8703196.55715,1502755.94572 L 8702193.46,1502463.70286 L 8701198.26,1502128.02286 L 8699207.86286,1501835.78 L 8698789.24572,1501768.64572 L 8697422.82286,1501575.13429 L 8695606.19143,1501310.53715 L 8694484.61715,1501168.36572 L 8693355.14572,1500986.70286 L 8693133.99143,1500959.05715 L 8691743.87143,1500903.76857 L 8691159.38857,1500583.88286 L 8689713.98,1499801.94 L 8686720.48572,1498174.86857 L 8685173.23429,1497343.93715 L 8684966.32,1497232.21143 L 8683979.74,1496689.96857 z\" /></g></svg>"
      ],
      "text/plain": [
       "<shapely.geometry.polygon.Polygon at 0x1b27e2bbb48>"
      ]
     },
     "execution_count": 95,
     "metadata": {},
     "output_type": "execute_result"
    }
   ],
   "source": [
    "shapely.geometry.Polygon(total[2].exterior.coords[::-1])"
   ]
  },
  {
   "cell_type": "code",
   "execution_count": 168,
   "id": "2fc8cb51",
   "metadata": {},
   "outputs": [
    {
     "data": {
      "text/plain": [
       "[<matplotlib.lines.Line2D at 0x1b27f9320c8>]"
      ]
     },
     "execution_count": 168,
     "metadata": {},
     "output_type": "execute_result"
    },
    {
     "data": {
      "image/png": "[encoded data removed]",
      "text/plain": [
       "<Figure size 432x288 with 1 Axes>"
      ]
     },
     "metadata": {
      "needs_background": "light"
     },
     "output_type": "display_data"
    }
   ],
   "source": [
    "import matplotlib\n",
    "x,y = total[3].exterior.xy\n",
    "end = 170\n",
    "plt.plot(x[0:end],y[0:end])"
   ]
  },
  {
   "cell_type": "code",
   "execution_count": 188,
   "id": "b41c0797",
   "metadata": {},
   "outputs": [],
   "source": [
    "t3rev = shapely.geometry.polygon.orient(total[3], sign=1.0)"
   ]
  },
  {
   "cell_type": "code",
   "execution_count": 189,
   "id": "c33e1466",
   "metadata": {},
   "outputs": [
    {
     "data": {
      "text/plain": [
       "'Polygon'"
      ]
     },
     "execution_count": 189,
     "metadata": {},
     "output_type": "execute_result"
    }
   ],
   "source": [
    "t3rev.type"
   ]
  },
  {
   "cell_type": "code",
   "execution_count": 190,
   "id": "7f1aec42",
   "metadata": {},
   "outputs": [
    {
     "data": {
      "text/plain": [
       "1373830187.6205077"
      ]
     },
     "execution_count": 190,
     "metadata": {},
     "output_type": "execute_result"
    }
   ],
   "source": [
    "t3rev.area"
   ]
  },
  {
   "cell_type": "code",
   "execution_count": 173,
   "id": "047bca00",
   "metadata": {},
   "outputs": [
    {
     "data": {
      "text/plain": [
       "[<matplotlib.lines.Line2D at 0x1b20376ca88>]"
      ]
     },
     "execution_count": 173,
     "metadata": {},
     "output_type": "execute_result"
    },
    {
     "data": {
      "image/png": "[encoded data removed]",
      "text/plain": [
       "<Figure size 432x288 with 1 Axes>"
      ]
     },
     "metadata": {
      "needs_background": "light"
     },
     "output_type": "display_data"
    }
   ],
   "source": [
    "x,y = t3rev.exterior.xy\n",
    "end = 130\n",
    "plt.plot(x[0:end],y[0:end])"
   ]
  },
  {
   "cell_type": "code",
   "execution_count": 175,
   "id": "6efd8c86",
   "metadata": {},
   "outputs": [
    {
     "data": {
      "text/plain": [
       "True"
      ]
     },
     "execution_count": 175,
     "metadata": {},
     "output_type": "execute_result"
    }
   ],
   "source": [
    "t3rev.is_valid"
   ]
  },
  {
   "cell_type": "code",
   "execution_count": 176,
   "id": "a119c84e",
   "metadata": {},
   "outputs": [
    {
     "data": {
      "text/plain": [
       "1373830187.6205077"
      ]
     },
     "execution_count": 176,
     "metadata": {},
     "output_type": "execute_result"
    }
   ],
   "source": [
    "t3rev.area"
   ]
  },
  {
   "cell_type": "code",
   "execution_count": 191,
   "id": "13349dfb",
   "metadata": {},
   "outputs": [
    {
     "data": {
      "text/plain": [
       "[<matplotlib.lines.Line2D at 0x1b2047af148>]"
      ]
     },
     "execution_count": 191,
     "metadata": {},
     "output_type": "execute_result"
    },
    {
     "data": {
      "image/png": "[encoded data removed]",
      "text/plain": [
       "<Figure size 432x288 with 1 Axes>"
      ]
     },
     "metadata": {
      "needs_background": "light"
     },
     "output_type": "display_data"
    }
   ],
   "source": [
    "x,y = totalnew[0].exterior.xy\n",
    "plt.plot(x,y,'blue')\n",
    "x,y = totalnew[1].exterior.xy\n",
    "plt.plot(x,y,'red')\n",
    "x,y = totalnew[2].exterior.xy\n",
    "plt.plot(x,y,'black')\n",
    "x,y = totalnew[3].exterior.xy\n",
    "plt.plot(x,y,'green')"
   ]
  },
  {
   "cell_type": "code",
   "execution_count": 144,
   "id": "d080da7f",
   "metadata": {},
   "outputs": [
    {
     "ename": "AttributeError",
     "evalue": "'tuple' object has no attribute 'type'",
     "output_type": "error",
     "traceback": [
      "\u001b[1;31m---------------------------------------------------------------------------\u001b[0m",
      "\u001b[1;31mAttributeError\u001b[0m                            Traceback (most recent call last)",
      "\u001b[1;32m<ipython-input-144-2f0c97cf5e05>\u001b[0m in \u001b[0;36m<module>\u001b[1;34m\u001b[0m\n\u001b[1;32m----> 1\u001b[1;33m \u001b[0mtotal\u001b[0m\u001b[1;33m[\u001b[0m\u001b[1;36m3\u001b[0m\u001b[1;33m]\u001b[0m\u001b[1;33m.\u001b[0m\u001b[0mexterior\u001b[0m\u001b[1;33m.\u001b[0m\u001b[0mxy\u001b[0m\u001b[1;33m.\u001b[0m\u001b[0mtype\u001b[0m\u001b[1;33m\u001b[0m\u001b[1;33m\u001b[0m\u001b[0m\n\u001b[0m",
      "\u001b[1;31mAttributeError\u001b[0m: 'tuple' object has no attribute 'type'"
     ]
    }
   ],
   "source": [
    "total[3].exterior.xy.type"
   ]
  },
  {
   "cell_type": "code",
   "execution_count": 136,
   "id": "ea76ba74",
   "metadata": {},
   "outputs": [
    {
     "data": {
      "image/svg+xml": [
       "<svg xmlns=\"http://www.w3.org/2000/svg\" xmlns:xlink=\"http://www.w3.org/1999/xlink\" width=\"300\" height=\"300\" viewBox=\"8385637.2433156 1750480.9633155998 41973.17336880043 103004.67908880021\" preserveAspectRatio=\"xMinYMin meet\"><g transform=\"matrix(1,0,0,-1,0,3603966.60572)\"><path fill-rule=\"evenodd\" fill=\"#66cc99\" stroke=\"#555555\" stroke-width=\"686.6978605920015\" opacity=\"0.6\" d=\"M 8393158.33715,1756238.58857 L 8393280.51714,1756006.44857 L 8393683.70571,1755468.86572 L 8394294.6,1754992.36857 L 8395100.97714,1754528.08857 L 8395699.65143,1754295.95143 L 8396476.57143,1754341.15143 L 8396478.5,1754341.26572 L 8396478.67143,1754341.27429 L 8397637.16857,1754408.67715 L 8398162.43428,1754521.23429 L 8398197.02,1754528.64572 L 8398272.07428,1754541.15429 L 8398596.91428,1754595.29429 L 8399423.36,1754901.88 L 8400956.28571,1755608.35715 L 8401627.67714,1755924.94857 L 8402595.84857,1756381.48572 L 8404327.62,1757246.38857 L 8404851.68,1757527.59143 L 8405802.55428,1758393.56572 L 8407055.28571,1759980.36 L 8407418.08285,1760439.90286 L 8407840.14571,1760974.51429 L 8408502.36,1761840.48857 L 8411575.72285,1765660.96857 L 8412815.25714,1767138.22 L 8412964.12,1767309.48 L 8413123.00285,1767506.03429 L 8413543.28857,1768030.72 L 8413969.70571,1768536.59715 L 8414070.62,1768656.31428 L 8414061.13428,1768651.42857 L 8415353.36571,1770374.40572 L 8415855.11714,1773234.38857 L 8412192.33143,1775868.58572 L 8412184.72,1775879.24286 L 8411439.70286,1776922.26286 L 8411019.38857,1777525.43429 L 8409751.52572,1779274.33715 L 8408334.5,1781392.41715 L 8407350.04286,1782958.6 L 8407350.04285,1782958.6 L 8407232.46571,1783275.04 L 8406735.95714,1784611.31715 L 8406312.33143,1785751.44857 L 8406141.84571,1786210.29429 L 8404621.46285,1789743.92286 L 8404232.49714,1790878.40857 L 8404070.42857,1791688.75715 L 8404135.25428,1792369.44572 L 8404329.74,1793179.79429 L 8404637.67143,1794030.65429 L 8404992.19714,1794800.48572 L 8405154.26571,1795155.01143 L 8405366.98285,1795550.05429 L 8405514.0,1795718.07429 L 8405516.54571,1795720.98572 L 8406359.65714,1796684.54 L 8406855.99428,1797231.52286 L 8408162.67714,1798588.85429 L 8409827.96857,1800050.83429 L 8412752.84,1802587.88572 L 8413945.41428,1803622.33143 L 8414908.60857,1804457.81143 L 8415232.42857,1805079.12286 L 8415710.31714,1805996.04286 L 8415725.37714,1806039.26 L 8416557.70857,1808427.86857 L 8417076.86857,1811497.02857 L 8417249.32285,1812536.18 L 8418267.88571,1818673.67143 L 8418084.65428,1826674.86286 L 8418103.69428,1827246.06572 L 8418267.88571,1832171.86286 L 8418553.60857,1833949.68286 L 8418817.58571,1835592.21429 L 8420588.84285,1839562.27429 L 8422207.40571,1843990.42 L 8423795.42857,1847349.69715 L 8423795.42857,1848632.33143 L 8423184.64857,1849548.49715 L 8422207.40572,1849670.65429 L 8413656.51429,1842646.70572 L 8399822.39429,1831988.63429 L 8399758.86857,1831044.82286 L 8399493.97715,1827109.25715 L 8399394.85143,1825636.54572 L 8400254.82,1824448.96857 L 8400677.48285,1823865.28857 L 8400677.48286,1823865.28857 L 8400695.71143,1822838.39143 L 8400769.10286,1818704.21429 L 8400983.31143,1815032.04572 L 8401196.64572,1811374.88286 L 8401181.03143,1804754.75143 L 8401180.20572,1804752.29143 L 8400114.98857,1801586.23143 L 8399779.38286,1800678.12 L 8399266.10286,1799276.47143 L 8398594.88857,1797499.73143 L 8398331.15143,1796761.26286 L 8398200.06,1796394.20572 L 8397706.52,1794044.96 L 8397351.17143,1792268.22 L 8397152.82,1791421.91429 L 8397152.68857,1791421.36 L 8397085.62,1791054.00286 L 8396988.44286,1790803.38857 L 8396702.02572,1790038.75429 L 8396604.84857,1789788.14 L 8396412.1,1789291.99143 L 8396306.98286,1789021.46572 L 8395904.52857,1787985.74286 L 8395404.42285,1786657.1 L 8394755.02857,1785007.49143 L 8394351.95715,1784022.20572 L 8393821.99429,1782686.1 L 8393575.67143,1782312.88572 L 8393486.1,1782126.27715 L 8392956.13715,1781223.1 L 8392635.17143,1780737.92 L 8392587.60286,1780673.05429 L 8392460.50285,1780499.73715 L 8392306.74285,1780290.06286 L 8392052.95715,1779950.44 L 8391664.81429,1779439.13429 L 8391603.98572,1779327.41143 L 8391382.77143,1778983.64857 L 8390977.32286,1778353.58286 L 8390651.59429,1777847.40286 L 8390234.46572,1777208.79429 L 8390146.33429,1777073.86572 L 8389873.58285,1776653.56 L 8389806.51429,1776537.30572 L 8389676.84571,1776255.61429 L 8389596.36286,1776036.51715 L 8389587.42,1775701.16857 L 8389569.53429,1775562.56 L 8389542.70572,1775406.06286 L 8389547.52286,1775283.04857 L 8389525.75429,1774444.97143 L 8389510.87143,1773872.00857 L 8389497.28286,1773279.21143 L 8389471.08285,1772136.21715 L 8389469.82286,1772081.27143 L 8389461.04857,1771357.30857 L 8389460.52857,1771314.32857 L 8389452.23143,1770629.91429 L 8389979.99715,1769398.46286 L 8390364.64286,1768476.06 L 8390885.99429,1767225.82572 L 8391203.48286,1766489.36572 L 8391424.02,1765951.80286 L 8391594.45429,1765536.37429 L 8391735.09714,1765243.36572 L 8391735.09715,1765243.36572 L 8392034.29715,1764620.03429 L 8392278.65429,1763972.48857 L 8392608.53429,1763239.41715 L 8392816.23714,1762811.79429 L 8393109.46572,1761846.58286 L 8393194.99143,1761003.55143 L 8393221.63715,1760761.07429 L 8393221.80286,1760759.56572 L 8393222.56857,1760752.60286 L 8393235.26,1760637.1 L 8393317.17143,1759891.72572 L 8393292.73429,1759561.84572 L 8393207.20857,1759317.48857 L 8393011.72286,1758437.80286 L 8392928.21715,1758135.1 L 8392913.98,1758083.48572 L 8392893.38857,1757851.83143 L 8392865.10857,1757533.68286 L 8392962.85143,1756935.00572 L 8393046.08857,1756638.46857 L 8393158.33715,1756238.58857 z\" /></g></svg>"
      ],
      "text/plain": [
       "<shapely.geometry.polygon.Polygon at 0x1b27863e0c8>"
      ]
     },
     "execution_count": 136,
     "metadata": {},
     "output_type": "execute_result"
    }
   ],
   "source": [
    "shapely.geometry.Polygon([pt for pt in total[3].exterior.coords[::-1]])"
   ]
  },
  {
   "cell_type": "code",
   "execution_count": 117,
   "id": "9f172e1f",
   "metadata": {},
   "outputs": [
    {
     "data": {
      "text/plain": [
       "[<matplotlib.lines.Line2D at 0x1b275f37c08>]"
      ]
     },
     "execution_count": 117,
     "metadata": {},
     "output_type": "execute_result"
    },
    {
     "data": {
      "image/png": "[encoded data removed]",
      "text/plain": [
       "<Figure size 432x288 with 1 Axes>"
      ]
     },
     "metadata": {
      "needs_background": "light"
     },
     "output_type": "display_data"
    }
   ],
   "source": [
    "x,y = total[0].interiors[6].xy\n",
    "plt.plot(x,y)"
   ]
  },
  {
   "cell_type": "code",
   "execution_count": 118,
   "id": "0dcff4d9",
   "metadata": {},
   "outputs": [
    {
     "data": {
      "text/plain": [
       "[True, True, True, True, True]"
      ]
     },
     "execution_count": 118,
     "metadata": {},
     "output_type": "execute_result"
    }
   ],
   "source": [
    "tiv = [t.is_valid for t in total]\n",
    "tiv"
   ]
  },
  {
   "cell_type": "code",
   "execution_count": 123,
   "id": "11f22873",
   "metadata": {},
   "outputs": [
    {
     "data": {
      "text/plain": [
       "[]"
      ]
     },
     "execution_count": 123,
     "metadata": {},
     "output_type": "execute_result"
    }
   ],
   "source": [
    "tmp = [[i for i in t.coords] for t in total[0].interiors if t.area>0]\n",
    "tmp"
   ]
  },
  {
   "cell_type": "code",
   "execution_count": null,
   "id": "2415e489",
   "metadata": {},
   "outputs": [],
   "source": [
    "total0 = shapely.geometry.Polygon(total[0].exterior,tmp)\n",
    "total0"
   ]
  },
  {
   "cell_type": "code",
   "execution_count": null,
   "id": "cd3160ab",
   "metadata": {},
   "outputs": [],
   "source": [
    "totalnew = shapely.geometry.MultiPolygon([total0,total[1],total[2],total[3]])\n",
    "totalnew"
   ]
  },
  {
   "cell_type": "code",
   "execution_count": 200,
   "id": "565df3ee",
   "metadata": {},
   "outputs": [
    {
     "data": {
      "image/svg+xml": [
       "<svg xmlns=\"http://www.w3.org/2000/svg\" xmlns:xlink=\"http://www.w3.org/1999/xlink\" width=\"300\" height=\"300\" viewBox=\"8159569.0059476 1321497.2259476 28304.39953480009 41625.58524479973\" preserveAspectRatio=\"xMinYMin meet\"><g transform=\"matrix(1,0,0,-1,0,2684620.0371399997)\"><path fill-rule=\"evenodd\" fill=\"#66cc99\" stroke=\"#555555\" stroke-width=\"277.5039016319982\" opacity=\"0.6\" d=\"M 8163815.68857,1352849.71143 L 8163877.77715,1352897.27715 L 8167491.82,1355666.00286 L 8169075.10572,1356878.96 L 8174970.63429,1361559.26 L 8174998.17143,1361581.12285 L 8176321.15143,1358294.25429 L 8177391.30857,1355622.14857 L 8179261.78285,1350951.71143 L 8179548.65428,1350180.12 L 8179748.82857,1349641.72857 L 8179755.48286,1349628.56857 L 8179755.59715,1349628.34286 L 8180470.99715,1348214.18286 L 8181042.01428,1346988.17143 L 8181159.4,1346689.19143 L 8182997.85714,1342006.62857 L 8183006.99143,1341983.36572 L 8184822.28285,1337322.06286 L 8186106.90857,1333692.99429 L 8186203.25428,1333114.91429 L 8186331.71714,1332568.94572 L 8186299.60285,1331027.39715 L 8185849.98285,1329261.03429 L 8184886.51428,1327912.17715 L 8182651.63428,1327052.60857 L 8182600.81714,1327033.06286 L 8180293.97714,1326145.81715 L 8176530.13714,1324694.01715 L 8172280.54857,1323038.91429 L 8171184.60285,1323038.91429 L 8170379.41714,1323396.77429 L 8169238.73714,1324246.69143 L 8167784.93143,1327232.58857 L 8167369.49143,1328335.88857 L 8165056.24857,1334479.25429 L 8164850.41143,1337133.13428 L 8164775.12286,1338103.85428 L 8164548.34857,1341027.71143 L 8164447.65715,1342325.95715 L 8164377.74,1343227.41715 L 8164312.42572,1344069.54285 L 8164310.12286,1344099.20286 L 8164146.88857,1346678.33715 L 8161856.22,1347515.78572 L 8161813.41428,1347531.43429 L 8161110.69429,1347788.34286 L 8161133.25715,1347831.29429 L 8163815.68857,1352849.71143 z\" /></g></svg>"
      ],
      "text/plain": [
       "<shapely.geometry.polygon.Polygon at 0x1b27846eac8>"
      ]
     },
     "execution_count": 200,
     "metadata": {},
     "output_type": "execute_result"
    }
   ],
   "source": [
    "totalnew[1]"
   ]
  },
  {
   "cell_type": "code",
   "execution_count": 130,
   "id": "f3389946",
   "metadata": {},
   "outputs": [
    {
     "ename": "AttributeError",
     "evalue": "'Polygon' object has no attribute 'interior'",
     "output_type": "error",
     "traceback": [
      "\u001b[1;31m---------------------------------------------------------------------------\u001b[0m",
      "\u001b[1;31mAttributeError\u001b[0m                            Traceback (most recent call last)",
      "\u001b[1;32m<ipython-input-130-8d30b1e41e30>\u001b[0m in \u001b[0;36m<module>\u001b[1;34m\u001b[0m\n\u001b[0;32m      1\u001b[0m \u001b[0mt2\u001b[0m \u001b[1;33m=\u001b[0m \u001b[0mtotal\u001b[0m\u001b[1;33m[\u001b[0m\u001b[1;36m2\u001b[0m\u001b[1;33m]\u001b[0m\u001b[1;33m\u001b[0m\u001b[1;33m\u001b[0m\u001b[0m\n\u001b[0;32m      2\u001b[0m \u001b[0mt2o\u001b[0m \u001b[1;33m=\u001b[0m \u001b[0mshapely\u001b[0m\u001b[1;33m.\u001b[0m\u001b[0mgeometry\u001b[0m\u001b[1;33m.\u001b[0m\u001b[0mpolygon\u001b[0m\u001b[1;33m.\u001b[0m\u001b[0morient\u001b[0m\u001b[1;33m(\u001b[0m\u001b[0mt2\u001b[0m\u001b[1;33m,\u001b[0m \u001b[0msign\u001b[0m\u001b[1;33m=\u001b[0m\u001b[1;36m1.0\u001b[0m\u001b[1;33m)\u001b[0m\u001b[1;33m\u001b[0m\u001b[1;33m\u001b[0m\u001b[0m\n\u001b[1;32m----> 3\u001b[1;33m \u001b[0mt2o\u001b[0m\u001b[1;33m.\u001b[0m\u001b[0minterior\u001b[0m\u001b[1;33m.\u001b[0m\u001b[0marea\u001b[0m\u001b[1;33m\u001b[0m\u001b[1;33m\u001b[0m\u001b[0m\n\u001b[0m",
      "\u001b[1;31mAttributeError\u001b[0m: 'Polygon' object has no attribute 'interior'"
     ]
    }
   ],
   "source": [
    "t2 = total[2]\n",
    "t2o = shapely.geometry.polygon.orient(t2, sign=1.0)\n",
    "t2o.interior.area"
   ]
  },
  {
   "cell_type": "code",
   "execution_count": null,
   "id": "a4d2f925",
   "metadata": {},
   "outputs": [],
   "source": [
    "total[2].buffer(0)"
   ]
  },
  {
   "cell_type": "code",
   "execution_count": 58,
   "id": "3b826689",
   "metadata": {},
   "outputs": [
    {
     "ename": "NameError",
     "evalue": "name 'plt' is not defined",
     "output_type": "error",
     "traceback": [
      "\u001b[1;31m---------------------------------------------------------------------------\u001b[0m",
      "\u001b[1;31mNameError\u001b[0m                                 Traceback (most recent call last)",
      "\u001b[1;32m<ipython-input-58-d373ee09ed39>\u001b[0m in \u001b[0;36m<module>\u001b[1;34m\u001b[0m\n\u001b[0;32m      1\u001b[0m \u001b[0mc1a\u001b[0m \u001b[1;33m=\u001b[0m \u001b[1;33m[\u001b[0m\u001b[0mtotal\u001b[0m\u001b[1;33m[\u001b[0m\u001b[1;36m0\u001b[0m\u001b[1;33m]\u001b[0m\u001b[1;33m.\u001b[0m\u001b[0minteriors\u001b[0m\u001b[1;33m[\u001b[0m\u001b[0mi\u001b[0m\u001b[1;33m]\u001b[0m\u001b[1;33m.\u001b[0m\u001b[0marea\u001b[0m \u001b[1;32mfor\u001b[0m \u001b[0mi\u001b[0m \u001b[1;32min\u001b[0m \u001b[0mrange\u001b[0m\u001b[1;33m(\u001b[0m\u001b[0mlen\u001b[0m\u001b[1;33m(\u001b[0m\u001b[0mtotal\u001b[0m\u001b[1;33m[\u001b[0m\u001b[1;36m0\u001b[0m\u001b[1;33m]\u001b[0m\u001b[1;33m.\u001b[0m\u001b[0minteriors\u001b[0m\u001b[1;33m)\u001b[0m\u001b[1;33m)\u001b[0m\u001b[1;33m]\u001b[0m\u001b[1;33m\u001b[0m\u001b[1;33m\u001b[0m\u001b[0m\n\u001b[1;32m----> 2\u001b[1;33m \u001b[0mplt\u001b[0m\u001b[1;33m.\u001b[0m\u001b[0mhist\u001b[0m\u001b[1;33m(\u001b[0m\u001b[0mc1a\u001b[0m\u001b[1;33m)\u001b[0m\u001b[1;33m\u001b[0m\u001b[1;33m\u001b[0m\u001b[0m\n\u001b[0m",
      "\u001b[1;31mNameError\u001b[0m: name 'plt' is not defined"
     ]
    }
   ],
   "source": [
    "c1a = [total[0].interiors[i].area for i in range(len(total[0].interiors))]\n"
   ]
  },
  {
   "cell_type": "code",
   "execution_count": 62,
   "id": "8ecf57e2",
   "metadata": {},
   "outputs": [
    {
     "data": {
      "image/png": "[encoded data removed]",
      "text/plain": [
       "<Figure size 432x288 with 1 Axes>"
      ]
     },
     "metadata": {
      "needs_background": "light"
     },
     "output_type": "display_data"
    }
   ],
   "source": [
    "import matplotlib.pyplot as plt\n",
    "%matplotlib inline\n",
    "\n",
    "plt.hist(c1a);"
   ]
  },
  {
   "cell_type": "code",
   "execution_count": 61,
   "id": "ddecc355",
   "metadata": {},
   "outputs": [
    {
     "data": {
      "text/plain": [
       "0.0"
      ]
     },
     "execution_count": 61,
     "metadata": {},
     "output_type": "execute_result"
    }
   ],
   "source": [
    "max(abs(np.array(c1a)))"
   ]
  },
  {
   "cell_type": "code",
   "execution_count": 63,
   "id": "d715e92d",
   "metadata": {},
   "outputs": [
    {
     "ename": "AttributeError",
     "evalue": "can't set attribute",
     "output_type": "error",
     "traceback": [
      "\u001b[1;31m---------------------------------------------------------------------------\u001b[0m",
      "\u001b[1;31mAttributeError\u001b[0m                            Traceback (most recent call last)",
      "\u001b[1;32m<ipython-input-63-bf4b14e1bb7c>\u001b[0m in \u001b[0;36m<module>\u001b[1;34m\u001b[0m\n\u001b[0;32m      1\u001b[0m \u001b[0mt\u001b[0m \u001b[1;33m=\u001b[0m \u001b[0mtotal\u001b[0m\u001b[1;33m\u001b[0m\u001b[1;33m\u001b[0m\u001b[0m\n\u001b[1;32m----> 2\u001b[1;33m \u001b[0mt\u001b[0m\u001b[1;33m[\u001b[0m\u001b[1;36m0\u001b[0m\u001b[1;33m]\u001b[0m\u001b[1;33m.\u001b[0m\u001b[0minteriors\u001b[0m \u001b[1;33m=\u001b[0m \u001b[1;33m[\u001b[0m\u001b[1;33m]\u001b[0m\u001b[1;33m\u001b[0m\u001b[1;33m\u001b[0m\u001b[0m\n\u001b[0m\u001b[0;32m      3\u001b[0m \u001b[0mt\u001b[0m\u001b[1;33m[\u001b[0m\u001b[1;36m0\u001b[0m\u001b[1;33m]\u001b[0m\u001b[1;33m\u001b[0m\u001b[1;33m\u001b[0m\u001b[0m\n",
      "\u001b[1;31mAttributeError\u001b[0m: can't set attribute"
     ]
    }
   ],
   "source": [
    "t = total\n",
    "t[0].interiors = []\n",
    "t[0]"
   ]
  },
  {
   "cell_type": "code",
   "execution_count": 67,
   "id": "ba3b9480",
   "metadata": {},
   "outputs": [],
   "source": [
    "t0 = shapely.geometry.Polygon(list(total[0].exterior.coords))"
   ]
  },
  {
   "cell_type": "code",
   "execution_count": null,
   "id": "e7458218",
   "metadata": {},
   "outputs": [],
   "source": [
    "display(t0)"
   ]
  },
  {
   "cell_type": "code",
   "execution_count": 96,
   "id": "8b9bedf0",
   "metadata": {},
   "outputs": [
    {
     "name": "stdout",
     "output_type": "stream",
     "text": [
      "Wall time: 15min 24s\n"
     ]
    }
   ],
   "source": [
    "%%time\n",
    "tb = total.buffer(0)"
   ]
  },
  {
   "cell_type": "code",
   "execution_count": null,
   "id": "7038299b",
   "metadata": {},
   "outputs": [],
   "source": [
    "tb"
   ]
  },
  {
   "cell_type": "code",
   "execution_count": 207,
   "id": "99e0fa21",
   "metadata": {},
   "outputs": [
    {
     "name": "stdout",
     "output_type": "stream",
     "text": [
      "Wall time: 144 ms\n"
     ]
    },
    {
     "data": {
      "text/plain": [
       "array([3658201.494285,  658872.974285, 9019156.614285, 6083004.85143 ])"
      ]
     },
     "execution_count": 207,
     "metadata": {},
     "output_type": "execute_result"
    }
   ],
   "source": [
    "%%time\n",
    "gdf1.total_bounds"
   ]
  },
  {
   "cell_type": "code",
   "execution_count": 204,
   "id": "8e4d08b3",
   "metadata": {},
   "outputs": [],
   "source": [
    "def getGDFBounds(gdf):\n",
    "    '''Calculates the bounds of all geometries in gdf'''\n",
    "    tmp = gdf.geometry.unary_union.envelope.boundary.coords.xy\n",
    "    bounds = [[min(tmp[1]),min(tmp[0])],[max(tmp[1]),max(tmp[0])]]\n",
    "    return bounds"
   ]
  },
  {
   "cell_type": "code",
   "execution_count": 206,
   "id": "d7f341ec",
   "metadata": {},
   "outputs": [
    {
     "name": "stdout",
     "output_type": "stream",
     "text": [
      "Wall time: 25.5 s\n"
     ]
    },
    {
     "data": {
      "text/plain": [
       "[[658872.974284999, 3658201.494285], [6083004.85143, 9019156.614285]]"
      ]
     },
     "execution_count": 206,
     "metadata": {},
     "output_type": "execute_result"
    }
   ],
   "source": [
    "%%time\n",
    "getGDFBounds(gdf1)"
   ]
  },
  {
   "cell_type": "code",
   "execution_count": 208,
   "id": "9dbc4c2d",
   "metadata": {},
   "outputs": [],
   "source": [
    "def getGDFBounds(gdf):\n",
    "    '''Calculates the bounds of all geometries in gdf'''\n",
    "    tmp = gdf.geometry.total_bounds\n",
    "    return [[tmp[1],tmp[0]],[tmp[3],tmp[2]]]"
   ]
  },
  {
   "cell_type": "code",
   "execution_count": 209,
   "id": "701226c5",
   "metadata": {},
   "outputs": [
    {
     "name": "stdout",
     "output_type": "stream",
     "text": [
      "Wall time: 91.8 ms\n"
     ]
    },
    {
     "data": {
      "text/plain": [
       "[[658872.974284999, 3658201.494285], [6083004.85143, 9019156.614285]]"
      ]
     },
     "execution_count": 209,
     "metadata": {},
     "output_type": "execute_result"
    }
   ],
   "source": [
    "%%time\n",
    "getGDFBounds(gdf1)"
   ]
  },
  {
   "cell_type": "code",
   "execution_count": null,
   "id": "82633e2c",
   "metadata": {},
   "outputs": [],
   "source": []
  }
 ],
 "metadata": {
  "kernelspec": {
   "display_name": "Python 3 (ipykernel)",
   "language": "python",
   "name": "python3"
  },
  "language_info": {
   "codemirror_mode": {
    "name": "ipython",
    "version": 3
   },
   "file_extension": ".py",
   "mimetype": "text/x-python",
   "name": "python",
   "nbconvert_exporter": "python",
   "pygments_lexer": "ipython3",
   "version": "3.7.8"
  }
 },
 "nbformat": 4,
 "nbformat_minor": 5
}
